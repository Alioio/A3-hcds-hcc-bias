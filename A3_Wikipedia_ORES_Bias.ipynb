{
 "cells": [
  {
   "cell_type": "markdown",
   "metadata": {},
   "source": [
    "Course Human-Centered Data Science ([HCDS](https://www.mi.fu-berlin.de/en/inf/groups/hcc/teaching/winter_term_2020_21/course_human_centered_data_science.html)) - Winter Term 2020/21 - [HCC](https://www.mi.fu-berlin.de/en/inf/groups/hcc/index.html) | [Freie Universität Berlin](https://www.fu-berlin.de/)\n",
    "\n",
    "***\n",
    "\n",
    "# A2 - Wikipedia, ORES, and Bias in Data\n",
    "Please follow the reproducability workflow as practiced during the last exercise."
   ]
  },
  {
   "cell_type": "markdown",
   "metadata": {},
   "source": [
    "## Step 1⃣ | Data acquisition\n",
    "\n",
    "You will use two data sources: (1) Wikipedia articles of politicians and (2) world population data.\n",
    "\n",
    "**Wikipedia articles -**\n",
    "The Wikipedia articles can be found on [Figshare](https://figshare.com/articles/Untitled_Item/5513449). It contains politiciaans by country from the English-language wikipedia. Please read through the documentation for this repository, then download and unzip it to extract the data file, which is called `page_data.csv`.\n",
    "\n",
    "**Population data -**\n",
    "The population data is available in `CSV` format in the `_data` folder. The file is named `export_2019.csv`. This dataset is drawn from the [world population datasheet](https://www.prb.org/international/indicator/population/table/) published by the Population Reference Bureau (downloaded 2020-11-13 10:14 AM). I have edited the dataset to make it easier to use in this assignment. The population per country is given in millions!"
   ]
  },
  {
   "cell_type": "code",
   "execution_count": 2,
   "metadata": {},
   "outputs": [],
   "source": [
    "import pandas as pd\n",
    "import numpy as np\n",
    "import os\n",
    "import os.path\n",
    "from os import makedirs, path\n",
    "import altair as alt"
   ]
  },
  {
   "cell_type": "markdown",
   "metadata": {},
   "source": [
    "## Step 2⃣ | Data processing and cleaning\n",
    "The data in `page_data.csv` contain some rows that you will need to filter out. It contains some page names that start with the string `\"Template:\"`. These pages are not Wikipedia articles, and should not be included in your analysis. The data in `export_2019.csv` does not need any cleaning.\n",
    "\n",
    "***\n",
    "\n",
    "| | `page_data.csv` | | |\n",
    "|-|------|---------|--------|\n",
    "| | **page** | **country** | **rev_id** |\n",
    "|0|\tTemplate:ZambiaProvincialMinisters | Zambia | 235107991 |\n",
    "|1|\tBir I of Kanem | Chad | 355319463 |\n",
    "\n",
    "***\n",
    "\n",
    "| | `export_2019.csv` | | |\n",
    "|-|------|---------|--------|\n",
    "| | **country** | **population** | **region** |\n",
    "|0|\tAlgeria | 44.357 | AFRICA |\n",
    "|1|\tEgypt | 100.803 | 355319463 |\n",
    "\n",
    "***"
   ]
  },
  {
   "cell_type": "markdown",
   "metadata": {},
   "source": [
    "#### Loading the data"
   ]
  },
  {
   "cell_type": "code",
   "execution_count": 3,
   "metadata": {},
   "outputs": [],
   "source": [
    "pages_df = df = pd.read_csv(\n",
    "  'data_raw\\pages\\csv\\page_data.csv',\n",
    "  sep = ','\n",
    ")"
   ]
  },
  {
   "cell_type": "code",
   "execution_count": 4,
   "metadata": {},
   "outputs": [],
   "source": [
    "population_df = df = pd.read_csv(\n",
    "  'data_raw\\population\\csv\\export_2019.csv',\n",
    "  sep = ';'\n",
    ")"
   ]
  },
  {
   "cell_type": "markdown",
   "metadata": {},
   "source": [
    "#### Exploring the data"
   ]
  },
  {
   "cell_type": "code",
   "execution_count": 5,
   "metadata": {},
   "outputs": [
    {
     "data": {
      "text/html": [
       "<div>\n",
       "<style scoped>\n",
       "    .dataframe tbody tr th:only-of-type {\n",
       "        vertical-align: middle;\n",
       "    }\n",
       "\n",
       "    .dataframe tbody tr th {\n",
       "        vertical-align: top;\n",
       "    }\n",
       "\n",
       "    .dataframe thead th {\n",
       "        text-align: right;\n",
       "    }\n",
       "</style>\n",
       "<table border=\"1\" class=\"dataframe\">\n",
       "  <thead>\n",
       "    <tr style=\"text-align: right;\">\n",
       "      <th></th>\n",
       "      <th>page</th>\n",
       "      <th>country</th>\n",
       "      <th>rev_id</th>\n",
       "    </tr>\n",
       "  </thead>\n",
       "  <tbody>\n",
       "    <tr>\n",
       "      <th>0</th>\n",
       "      <td>Template:ZambiaProvincialMinisters</td>\n",
       "      <td>Zambia</td>\n",
       "      <td>235107991</td>\n",
       "    </tr>\n",
       "    <tr>\n",
       "      <th>1</th>\n",
       "      <td>Bir I of Kanem</td>\n",
       "      <td>Chad</td>\n",
       "      <td>355319463</td>\n",
       "    </tr>\n",
       "    <tr>\n",
       "      <th>2</th>\n",
       "      <td>Template:Zimbabwe-politician-stub</td>\n",
       "      <td>Zimbabwe</td>\n",
       "      <td>391862046</td>\n",
       "    </tr>\n",
       "    <tr>\n",
       "      <th>3</th>\n",
       "      <td>Template:Uganda-politician-stub</td>\n",
       "      <td>Uganda</td>\n",
       "      <td>391862070</td>\n",
       "    </tr>\n",
       "    <tr>\n",
       "      <th>4</th>\n",
       "      <td>Template:Namibia-politician-stub</td>\n",
       "      <td>Namibia</td>\n",
       "      <td>391862409</td>\n",
       "    </tr>\n",
       "  </tbody>\n",
       "</table>\n",
       "</div>"
      ],
      "text/plain": [
       "                                 page   country     rev_id\n",
       "0  Template:ZambiaProvincialMinisters    Zambia  235107991\n",
       "1                      Bir I of Kanem      Chad  355319463\n",
       "2   Template:Zimbabwe-politician-stub  Zimbabwe  391862046\n",
       "3     Template:Uganda-politician-stub    Uganda  391862070\n",
       "4    Template:Namibia-politician-stub   Namibia  391862409"
      ]
     },
     "execution_count": 5,
     "metadata": {},
     "output_type": "execute_result"
    }
   ],
   "source": [
    "pages_df.head() "
   ]
  },
  {
   "cell_type": "code",
   "execution_count": 6,
   "metadata": {},
   "outputs": [
    {
     "name": "stdout",
     "output_type": "stream",
     "text": [
      "<class 'pandas.core.frame.DataFrame'>\n",
      "RangeIndex: 47197 entries, 0 to 47196\n",
      "Data columns (total 3 columns):\n",
      " #   Column   Non-Null Count  Dtype \n",
      "---  ------   --------------  ----- \n",
      " 0   page     47197 non-null  object\n",
      " 1   country  47197 non-null  object\n",
      " 2   rev_id   47197 non-null  int64 \n",
      "dtypes: int64(1), object(2)\n",
      "memory usage: 1.1+ MB\n"
     ]
    }
   ],
   "source": [
    "# Checking for Nan or null values\n",
    "pages_df.info()"
   ]
  },
  {
   "cell_type": "code",
   "execution_count": 7,
   "metadata": {},
   "outputs": [
    {
     "name": "stdout",
     "output_type": "stream",
     "text": [
      "219  countries\n"
     ]
    }
   ],
   "source": [
    "print(len(pd.unique(pages_df['country'])),' countries')"
   ]
  },
  {
   "cell_type": "code",
   "execution_count": 8,
   "metadata": {},
   "outputs": [
    {
     "data": {
      "text/plain": [
       "44.357"
      ]
     },
     "execution_count": 8,
     "metadata": {},
     "output_type": "execute_result"
    }
   ],
   "source": [
    "population_df.iloc[0]['population']"
   ]
  },
  {
   "cell_type": "code",
   "execution_count": 9,
   "metadata": {},
   "outputs": [
    {
     "name": "stdout",
     "output_type": "stream",
     "text": [
      "<class 'pandas.core.frame.DataFrame'>\n",
      "RangeIndex: 210 entries, 0 to 209\n",
      "Data columns (total 3 columns):\n",
      " #   Column      Non-Null Count  Dtype  \n",
      "---  ------      --------------  -----  \n",
      " 0   country     210 non-null    object \n",
      " 1   population  210 non-null    float64\n",
      " 2   region      210 non-null    object \n",
      "dtypes: float64(1), object(2)\n",
      "memory usage: 5.0+ KB\n"
     ]
    }
   ],
   "source": [
    "# Checking for Nan or null values\n",
    "population_df.info()"
   ]
  },
  {
   "cell_type": "code",
   "execution_count": 10,
   "metadata": {},
   "outputs": [
    {
     "data": {
      "text/plain": [
       "dtype('float64')"
      ]
     },
     "execution_count": 10,
     "metadata": {},
     "output_type": "execute_result"
    }
   ],
   "source": [
    "population_df['population'].dtype"
   ]
  },
  {
   "cell_type": "code",
   "execution_count": 11,
   "metadata": {},
   "outputs": [
    {
     "data": {
      "text/plain": [
       "array(['AFRICA', 'NORTHERN AMERICA', 'LATIN AMERICA AND THE CARIBBEAN',\n",
       "       'ASIA', 'EUROPE', 'OCEANIA'], dtype=object)"
      ]
     },
     "execution_count": 11,
     "metadata": {},
     "output_type": "execute_result"
    }
   ],
   "source": [
    "pd.unique(population_df['region'])"
   ]
  },
  {
   "cell_type": "markdown",
   "metadata": {},
   "source": [
    "### Getting article quality predictions with ORES\n",
    "\n",
    "Now you need to get the predicted quality scores for each article in the Wikipedia dataset. We're using a machine learning system called [**ORES**](https://www.mediawiki.org/wiki/ORES) (\"Objective Revision Evaluation Service\"). ORES estimates the quality of an article (at a particular point in time), and assigns a series of probabilities that the article is in one of the six quality categories. The options are, from best to worst:\n",
    "\n",
    "| ID | Quality Category |  Explanation |\n",
    "|----|------------------|----------|\n",
    "| 1 | FA    | Featured article |\n",
    "| 2 | GA    | Good article |\n",
    "| 3 | B     | B-class article |\n",
    "| 4 | C     | C-class article |\n",
    "| 5 | Start | Start-class article |\n",
    "| 6 | Stub  | Stub-class article |\n",
    "\n",
    "For context, these quality classes are a sub-set of quality assessment categories developed by Wikipedia editors. If you're curious, you can [read more](https://en.wikipedia.org/wiki/Wikipedia:Content_assessment#Grades) about what these assessment classes mean on English Wikipedia. For this assignment, you only need to know that these categories exist, and that ORES will assign one of these six categories to any `rev_id`. You need to extract all `rev_id`s in the `page_data.csv` file and use the ORES API to get the predicted quality score for that specific article revision."
   ]
  },
  {
   "cell_type": "markdown",
   "metadata": {},
   "source": [
    "### ORES REST API endpoint\n",
    "\n",
    "The [ORES REST API](https://ores.wikimedia.org/v3/#!/scoring/get_v3_scores_context_revid_model) is configured fairly similarly to the pageviews API we used for the last assignment. It expects the following parameters:\n",
    "\n",
    "* **project** --> `enwiki`\n",
    "* **revid** --> e.g. `235107991` or multiple ids e.g.: `235107991|355319463` (batch)\n",
    "* **model** --> `wp10` - The name of a model to use when scoring.\n",
    "\n",
    "**❗Note on batch processing:** Please read the documentation about [API usage](https://www.mediawiki.org/wiki/ORES#API_usage) if you want to query a large number of revisions (batches). \n",
    "\n",
    "You will notice that ORES returns a prediction value that contains the name of one category (e.g. `Start`), as well as probability values for each of the six quality categories. For this assignment, you only need to capture and use the value for prediction.\n",
    "\n",
    "**❗Note:** It's possible that you will be unable to get a score for a particular article. If that happens, make sure to maintain a log of articles for which you were not able to retrieve an ORES score. This log should be saved as a separate file named `ORES_no_scores.csv` and should include the `page`, `country`, and `rev_id` (just as in `page_data.csv`).\n",
    "\n",
    "You can use the following **samle code for API calls**:"
   ]
  },
  {
   "cell_type": "markdown",
   "metadata": {},
   "source": [
    "Sending one request for each `rev_id` might take some time. If you want to send batches you can use `'|'.join(str(x) for x in revision_ids` to put your ids together. Please make sure to deal with [exception handling](https://www.w3schools.com/python/python_try_except.asp) of the `KeyError` exception, when extracting the `prediction` from the `JSON` response."
   ]
  },
  {
   "cell_type": "code",
   "execution_count": 12,
   "metadata": {},
   "outputs": [],
   "source": [
    "import requests\n",
    "import json\n",
    "\n",
    "# Customize these with your own information\n",
    "headers = {\n",
    "    'User-Agent': 'https://github.com/Alioio',\n",
    "    'From': 'alib10@fu-berlin.de'\n",
    "}\n",
    "\n",
    "def get_ores_data(rev_id, headers):\n",
    "    \n",
    "    # Define the endpoint\n",
    "    # https://ores.wikimedia.org/scores/enwiki/?models=wp10&revids=807420979|807422778\n",
    "    endpoint = 'https://ores.wikimedia.org/v3/scores/{project}/?models={model}&revids={revids}'\n",
    "\n",
    "    params = {'project' : 'enwiki',\n",
    "              'model'   : 'wp10',\n",
    "              'revids'  : rev_id\n",
    "              }\n",
    "\n",
    "    api_call = requests.get(endpoint.format(**params))\n",
    "    response = api_call.json()\n",
    "    data = json.dumps(response)\n",
    "\n",
    "    return data"
   ]
  },
  {
   "cell_type": "code",
   "execution_count": 13,
   "metadata": {},
   "outputs": [],
   "source": [
    "#rev_ids = pages_df['rev_id'][:200]\n",
    "rev_ids = pages_df['rev_id']"
   ]
  },
  {
   "cell_type": "code",
   "execution_count": 14,
   "metadata": {},
   "outputs": [],
   "source": [
    "def make_df(keys, subset):\n",
    "    quality_df = {'rev_id': [],\n",
    "        'quality': []\n",
    "        }\n",
    "\n",
    "    quality_df = pd.DataFrame(quality_df, columns = ['rev_id', 'quality'])\n",
    "\n",
    "    for key in keys:\n",
    "        try:\n",
    "            new_row = pd.Series(data={'rev_id':key, 'quality':subset[key]['wp10']['score']['prediction']})\n",
    "            quality_df = quality_df.append(new_row, ignore_index=True)\n",
    "            #print(subset[key]['wp10']['score']['prediction'])\n",
    "        except KeyError:\n",
    "            try:\n",
    "                new_row = pd.Series(data={'rev_id':key, 'quality':subset[key]['wp10']['error']['message']})\n",
    "                quality_df = quality_df.append(new_row, ignore_index=True)\n",
    "            except KeyError:\n",
    "                new_row = pd.Series(data={'rev_id':key, 'quality':'unknown error'})\n",
    "                quality_df = quality_df.append(new_row, ignore_index=True)\n",
    "    return quality_df"
   ]
  },
  {
   "cell_type": "code",
   "execution_count": 15,
   "metadata": {},
   "outputs": [],
   "source": [
    "def run_batch(id1, id2, batchids):\n",
    "    bucket = batchids[id1: id2]\n",
    "    bucket = ('|'.join(str(x) for x in bucket))\n",
    "    output = get_ores_data(bucket, headers)\n",
    "    output = json.loads(output)\n",
    "    subset = output['enwiki']['scores']\n",
    "    keys   = subset.keys()\n",
    "    df = make_df(keys, subset)  \n",
    "    return df"
   ]
  },
  {
   "cell_type": "code",
   "execution_count": 16,
   "metadata": {},
   "outputs": [],
   "source": [
    "if not os.path.isfile('data_clean/csv/ORES_scores.csv'):\n",
    "\n",
    "    final_df = pd.DataFrame({'rev_id': [], 'quality': [] }, columns = ['rev_id', 'quality'])\n",
    "\n",
    "    last = 0\n",
    "    for bucket in range(0, len(rev_ids)-50, 50):\n",
    "        print('new batch: ',bucket,': ',bucket+50)\n",
    "        df = run_batch(bucket, bucket+50, rev_ids)\n",
    "        final_df = pd.concat([final_df, df], axis= 0)\n",
    "        last = bucket\n",
    "\n",
    "    if( (len(rev_ids) - len(final_df)) > 0):\n",
    "        print('new batch: ',len(final_df),': ',len(rev_ids))\n",
    "        df = run_batch(len(final_df), len(rev_ids), rev_ids)\n",
    "        final_df = pd.concat([final_df, df], axis= 0)\n",
    "        \n",
    "    pages_df['rev_id'] = pages_df['rev_id'].astype(str)\n",
    "    final_df['rev_id'] = final_df['rev_id'].astype(str)\n",
    "    merged_df = pd.merge(pages_df, final_df, on='rev_id', how='outer')\n",
    "else:\n",
    "    merged_df = pd.read_csv('data_clean/csv/ORES_scores.csv') \n"
   ]
  },
  {
   "cell_type": "code",
   "execution_count": 17,
   "metadata": {},
   "outputs": [
    {
     "name": "stdout",
     "output_type": "stream",
     "text": [
      "Number of revisions not found by ORES API:  213\n"
     ]
    }
   ],
   "source": [
    "print('Number of revisions not found by ORES API: ',len(merged_df[merged_df['quality'].str.contains('RevisionNotFound') | merged_df['quality'].str.contains('unknown error')]))"
   ]
  },
  {
   "cell_type": "code",
   "execution_count": 18,
   "metadata": {},
   "outputs": [],
   "source": [
    "def store_preprocessed(df, name):\n",
    "    \n",
    "    if not os.path.isdir('data_clean/csv'):\n",
    "        makedirs('pre_processed_data/csv')\n",
    "        \n",
    "    df.to_csv('data_clean/csv/'+name+'.csv') "
   ]
  },
  {
   "cell_type": "code",
   "execution_count": 19,
   "metadata": {},
   "outputs": [],
   "source": [
    "if not os.path.isfile('data_clean/csv/ORES_scores.csv'):\n",
    "    store_preprocessed(merged_df, 'ORES_scores')"
   ]
  },
  {
   "cell_type": "code",
   "execution_count": 20,
   "metadata": {},
   "outputs": [
    {
     "data": {
      "text/html": [
       "<div>\n",
       "<style scoped>\n",
       "    .dataframe tbody tr th:only-of-type {\n",
       "        vertical-align: middle;\n",
       "    }\n",
       "\n",
       "    .dataframe tbody tr th {\n",
       "        vertical-align: top;\n",
       "    }\n",
       "\n",
       "    .dataframe thead th {\n",
       "        text-align: right;\n",
       "    }\n",
       "</style>\n",
       "<table border=\"1\" class=\"dataframe\">\n",
       "  <thead>\n",
       "    <tr style=\"text-align: right;\">\n",
       "      <th></th>\n",
       "      <th>Unnamed: 0</th>\n",
       "      <th>page</th>\n",
       "      <th>country</th>\n",
       "      <th>rev_id</th>\n",
       "      <th>quality</th>\n",
       "    </tr>\n",
       "  </thead>\n",
       "  <tbody>\n",
       "    <tr>\n",
       "      <th>0</th>\n",
       "      <td>0</td>\n",
       "      <td>Template:ZambiaProvincialMinisters</td>\n",
       "      <td>Zambia</td>\n",
       "      <td>235107991</td>\n",
       "      <td>RevisionNotFound: Could not find revision ({re...</td>\n",
       "    </tr>\n",
       "    <tr>\n",
       "      <th>126</th>\n",
       "      <td>126</td>\n",
       "      <td>List of politicians in Poland</td>\n",
       "      <td>Poland</td>\n",
       "      <td>516633096</td>\n",
       "      <td>RevisionNotFound: Could not find revision ({re...</td>\n",
       "    </tr>\n",
       "    <tr>\n",
       "      <th>222</th>\n",
       "      <td>222</td>\n",
       "      <td>Tingtingru</td>\n",
       "      <td>Vanuatu</td>\n",
       "      <td>550682925</td>\n",
       "      <td>RevisionNotFound: Could not find revision ({re...</td>\n",
       "    </tr>\n",
       "    <tr>\n",
       "      <th>330</th>\n",
       "      <td>330</td>\n",
       "      <td>Daud Arsala</td>\n",
       "      <td>Afghanistan</td>\n",
       "      <td>627547024</td>\n",
       "      <td>RevisionNotFound: Could not find revision ({re...</td>\n",
       "    </tr>\n",
       "    <tr>\n",
       "      <th>539</th>\n",
       "      <td>539</td>\n",
       "      <td>Bharat Saud</td>\n",
       "      <td>Nepal</td>\n",
       "      <td>671484594</td>\n",
       "      <td>RevisionNotFound: Could not find revision ({re...</td>\n",
       "    </tr>\n",
       "    <tr>\n",
       "      <th>...</th>\n",
       "      <td>...</td>\n",
       "      <td>...</td>\n",
       "      <td>...</td>\n",
       "      <td>...</td>\n",
       "      <td>...</td>\n",
       "    </tr>\n",
       "    <tr>\n",
       "      <th>46782</th>\n",
       "      <td>46782</td>\n",
       "      <td>John Rose (Trotskyist)</td>\n",
       "      <td>United Kingdom</td>\n",
       "      <td>807336308</td>\n",
       "      <td>RevisionNotFound: Could not find revision ({re...</td>\n",
       "    </tr>\n",
       "    <tr>\n",
       "      <th>46862</th>\n",
       "      <td>46862</td>\n",
       "      <td>Jalal Movaghar</td>\n",
       "      <td>Iran</td>\n",
       "      <td>807367030</td>\n",
       "      <td>RevisionNotFound: Could not find revision ({re...</td>\n",
       "    </tr>\n",
       "    <tr>\n",
       "      <th>46863</th>\n",
       "      <td>46863</td>\n",
       "      <td>Mohsen Movaghar</td>\n",
       "      <td>Iran</td>\n",
       "      <td>807367166</td>\n",
       "      <td>RevisionNotFound: Could not find revision ({re...</td>\n",
       "    </tr>\n",
       "    <tr>\n",
       "      <th>47182</th>\n",
       "      <td>47182</td>\n",
       "      <td>King Gutierrez</td>\n",
       "      <td>Philippines</td>\n",
       "      <td>807479587</td>\n",
       "      <td>RevisionNotFound: Could not find revision ({re...</td>\n",
       "    </tr>\n",
       "    <tr>\n",
       "      <th>47196</th>\n",
       "      <td>47196</td>\n",
       "      <td>Ajay Kannoujiya</td>\n",
       "      <td>India</td>\n",
       "      <td>807484325</td>\n",
       "      <td>RevisionNotFound: Could not find revision ({re...</td>\n",
       "    </tr>\n",
       "  </tbody>\n",
       "</table>\n",
       "<p>213 rows × 5 columns</p>\n",
       "</div>"
      ],
      "text/plain": [
       "       Unnamed: 0                                page         country  \\\n",
       "0               0  Template:ZambiaProvincialMinisters          Zambia   \n",
       "126           126       List of politicians in Poland          Poland   \n",
       "222           222                          Tingtingru         Vanuatu   \n",
       "330           330                         Daud Arsala     Afghanistan   \n",
       "539           539                         Bharat Saud           Nepal   \n",
       "...           ...                                 ...             ...   \n",
       "46782       46782              John Rose (Trotskyist)  United Kingdom   \n",
       "46862       46862                      Jalal Movaghar            Iran   \n",
       "46863       46863                     Mohsen Movaghar            Iran   \n",
       "47182       47182                      King Gutierrez     Philippines   \n",
       "47196       47196                     Ajay Kannoujiya           India   \n",
       "\n",
       "          rev_id                                            quality  \n",
       "0      235107991  RevisionNotFound: Could not find revision ({re...  \n",
       "126    516633096  RevisionNotFound: Could not find revision ({re...  \n",
       "222    550682925  RevisionNotFound: Could not find revision ({re...  \n",
       "330    627547024  RevisionNotFound: Could not find revision ({re...  \n",
       "539    671484594  RevisionNotFound: Could not find revision ({re...  \n",
       "...          ...                                                ...  \n",
       "46782  807336308  RevisionNotFound: Could not find revision ({re...  \n",
       "46862  807367030  RevisionNotFound: Could not find revision ({re...  \n",
       "46863  807367166  RevisionNotFound: Could not find revision ({re...  \n",
       "47182  807479587  RevisionNotFound: Could not find revision ({re...  \n",
       "47196  807484325  RevisionNotFound: Could not find revision ({re...  \n",
       "\n",
       "[213 rows x 5 columns]"
      ]
     },
     "execution_count": 20,
     "metadata": {},
     "output_type": "execute_result"
    }
   ],
   "source": [
    "no_scores_df = merged_df[merged_df['quality'].str.contains('RevisionNotFound:')]\n",
    "no_scores_df"
   ]
  },
  {
   "cell_type": "code",
   "execution_count": 23,
   "metadata": {},
   "outputs": [
    {
     "data": {
      "text/html": [
       "<div>\n",
       "<style scoped>\n",
       "    .dataframe tbody tr th:only-of-type {\n",
       "        vertical-align: middle;\n",
       "    }\n",
       "\n",
       "    .dataframe tbody tr th {\n",
       "        vertical-align: top;\n",
       "    }\n",
       "\n",
       "    .dataframe thead th {\n",
       "        text-align: right;\n",
       "    }\n",
       "</style>\n",
       "<table border=\"1\" class=\"dataframe\">\n",
       "  <thead>\n",
       "    <tr style=\"text-align: right;\">\n",
       "      <th></th>\n",
       "      <th>Unnamed: 0</th>\n",
       "      <th>page</th>\n",
       "      <th>country</th>\n",
       "      <th>rev_id</th>\n",
       "      <th>quality</th>\n",
       "    </tr>\n",
       "  </thead>\n",
       "  <tbody>\n",
       "    <tr>\n",
       "      <th>63</th>\n",
       "      <td>63</td>\n",
       "      <td>Template:Hungary-mayor-stub</td>\n",
       "      <td>Hungary</td>\n",
       "      <td>444023605</td>\n",
       "      <td>Stub</td>\n",
       "    </tr>\n",
       "    <tr>\n",
       "      <th>196</th>\n",
       "      <td>196</td>\n",
       "      <td>Template:Hungary-diplomat-stub</td>\n",
       "      <td>Hungary</td>\n",
       "      <td>540997088</td>\n",
       "      <td>Stub</td>\n",
       "    </tr>\n",
       "    <tr>\n",
       "      <th>210</th>\n",
       "      <td>210</td>\n",
       "      <td>Béla Vörösmarty</td>\n",
       "      <td>Hungary</td>\n",
       "      <td>545936100</td>\n",
       "      <td>Stub</td>\n",
       "    </tr>\n",
       "    <tr>\n",
       "      <th>230</th>\n",
       "      <td>230</td>\n",
       "      <td>Mihály Mikes (soldier)</td>\n",
       "      <td>Hungary</td>\n",
       "      <td>559788982</td>\n",
       "      <td>Stub</td>\n",
       "    </tr>\n",
       "    <tr>\n",
       "      <th>244</th>\n",
       "      <td>244</td>\n",
       "      <td>Template:Hungary-politician-stub</td>\n",
       "      <td>Hungary</td>\n",
       "      <td>561076576</td>\n",
       "      <td>Stub</td>\n",
       "    </tr>\n",
       "    <tr>\n",
       "      <th>...</th>\n",
       "      <td>...</td>\n",
       "      <td>...</td>\n",
       "      <td>...</td>\n",
       "      <td>...</td>\n",
       "      <td>...</td>\n",
       "    </tr>\n",
       "    <tr>\n",
       "      <th>46619</th>\n",
       "      <td>46619</td>\n",
       "      <td>György Szapáry</td>\n",
       "      <td>Hungary</td>\n",
       "      <td>807252356</td>\n",
       "      <td>Start</td>\n",
       "    </tr>\n",
       "    <tr>\n",
       "      <th>46627</th>\n",
       "      <td>46627</td>\n",
       "      <td>Gábor Scheiring</td>\n",
       "      <td>Hungary</td>\n",
       "      <td>807254062</td>\n",
       "      <td>Start</td>\n",
       "    </tr>\n",
       "    <tr>\n",
       "      <th>46630</th>\n",
       "      <td>46630</td>\n",
       "      <td>Viktor Orbán</td>\n",
       "      <td>Hungary</td>\n",
       "      <td>807254325</td>\n",
       "      <td>B</td>\n",
       "    </tr>\n",
       "    <tr>\n",
       "      <th>46764</th>\n",
       "      <td>46764</td>\n",
       "      <td>Pál Schmitt</td>\n",
       "      <td>Hungary</td>\n",
       "      <td>807330345</td>\n",
       "      <td>GA</td>\n",
       "    </tr>\n",
       "    <tr>\n",
       "      <th>47110</th>\n",
       "      <td>47110</td>\n",
       "      <td>László Toroczkai</td>\n",
       "      <td>Hungary</td>\n",
       "      <td>807457197</td>\n",
       "      <td>Stub</td>\n",
       "    </tr>\n",
       "  </tbody>\n",
       "</table>\n",
       "<p>614 rows × 5 columns</p>\n",
       "</div>"
      ],
      "text/plain": [
       "       Unnamed: 0                              page  country     rev_id  \\\n",
       "63             63       Template:Hungary-mayor-stub  Hungary  444023605   \n",
       "196           196    Template:Hungary-diplomat-stub  Hungary  540997088   \n",
       "210           210                   Béla Vörösmarty  Hungary  545936100   \n",
       "230           230            Mihály Mikes (soldier)  Hungary  559788982   \n",
       "244           244  Template:Hungary-politician-stub  Hungary  561076576   \n",
       "...           ...                               ...      ...        ...   \n",
       "46619       46619                    György Szapáry  Hungary  807252356   \n",
       "46627       46627                   Gábor Scheiring  Hungary  807254062   \n",
       "46630       46630                      Viktor Orbán  Hungary  807254325   \n",
       "46764       46764                       Pál Schmitt  Hungary  807330345   \n",
       "47110       47110                  László Toroczkai  Hungary  807457197   \n",
       "\n",
       "      quality  \n",
       "63       Stub  \n",
       "196      Stub  \n",
       "210      Stub  \n",
       "230      Stub  \n",
       "244      Stub  \n",
       "...       ...  \n",
       "46619   Start  \n",
       "46627   Start  \n",
       "46630       B  \n",
       "46764      GA  \n",
       "47110    Stub  \n",
       "\n",
       "[614 rows x 5 columns]"
      ]
     },
     "execution_count": 23,
     "metadata": {},
     "output_type": "execute_result"
    }
   ],
   "source": [
    "merged_df[merged_df['country'] == 'Hungary']"
   ]
  },
  {
   "cell_type": "code",
   "execution_count": 20,
   "metadata": {},
   "outputs": [],
   "source": [
    "store_preprocessed(no_scores_df, 'ORES_no_scores')"
   ]
  },
  {
   "cell_type": "markdown",
   "metadata": {},
   "source": [
    "### Combining the datasets\n",
    "\n",
    "Now you need to combine both dataset: (1) the wikipedia articles and its ORES quality scores and (2) the population data. Both have columns named `country`. After merging the data, you'll invariably run into entries which cannot be merged. Either the population dataset does not have an entry for the equivalent Wikipedia country, or vis versa.\n",
    "\n",
    "Please remove any rows that do not have matching data, and output them to a `CSV` file called `countries-no_match.csv`. Consolidate the remaining data into a single `CSV` file called `politicians_by_country.csv`.\n",
    "\n",
    "The schema for that file should look like the following table:\n",
    "\n",
    "\n",
    "| article_name | country | region | revision_id | article_quality | population |\n",
    "|--------------|---------|--------|-------------|-----------------|------------|\n",
    "| Bir I of Kanem | Chad  | AFRICA | 807422778 | Stub | 16877000 |"
   ]
  },
  {
   "cell_type": "markdown",
   "metadata": {},
   "source": [
    "#### Some exploration of matching and not matching countries "
   ]
  },
  {
   "cell_type": "code",
   "execution_count": 21,
   "metadata": {},
   "outputs": [],
   "source": [
    "contries_pop = pd.unique(population_df['country'])"
   ]
  },
  {
   "cell_type": "code",
   "execution_count": 22,
   "metadata": {},
   "outputs": [
    {
     "name": "stdout",
     "output_type": "stream",
     "text": [
      "# of countries in the population dataset:  210\n"
     ]
    }
   ],
   "source": [
    "print('# of countries in the population dataset: ',len(contries_pop))"
   ]
  },
  {
   "cell_type": "code",
   "execution_count": 23,
   "metadata": {},
   "outputs": [],
   "source": [
    "countries_wiki = pd.unique(merged_df['country'])"
   ]
  },
  {
   "cell_type": "code",
   "execution_count": 24,
   "metadata": {},
   "outputs": [
    {
     "name": "stdout",
     "output_type": "stream",
     "text": [
      "# of countries in the article quality dataset:  219\n"
     ]
    }
   ],
   "source": [
    "print('# of countries in the article quality dataset: ',len(countries_wiki))"
   ]
  },
  {
   "cell_type": "code",
   "execution_count": 25,
   "metadata": {},
   "outputs": [
    {
     "name": "stdout",
     "output_type": "stream",
     "text": [
      "Countries which are present in the population df but has no matching entry in the article quality df:\n"
     ]
    },
    {
     "data": {
      "text/plain": [
       "array(['Western Sahara', \"Cote d'Ivoire\", 'Mayotte', 'Reunion',\n",
       "       'Congo, Dem. Rep.', 'eSwatini', 'El Salvador', 'Honduras',\n",
       "       'Curacao', 'Puerto Rico', 'St. Kitts-Nevis', 'Saint Lucia',\n",
       "       'St. Vincent and the Grenadines', 'Georgia', 'Oman', 'Brunei',\n",
       "       'Timor-Leste', 'China, Hong Kong SAR', 'China, Macao SAR',\n",
       "       'Channel Islands', 'Czechia', 'North Macedonia',\n",
       "       'French Polynesia', 'Guam', 'New Caledonia', 'Palau', 'Samoa'],\n",
       "      dtype=object)"
      ]
     },
     "execution_count": 25,
     "metadata": {},
     "output_type": "execute_result"
    }
   ],
   "source": [
    "print('Countries which are present in the population df but has no matching entry in the article quality df:')\n",
    "contries_pop[np.invert(np.in1d(contries_pop, countries_wiki))]"
   ]
  },
  {
   "cell_type": "code",
   "execution_count": 26,
   "metadata": {},
   "outputs": [
    {
     "name": "stdout",
     "output_type": "stream",
     "text": [
      "Countries which are present in the article quality df but has no matching entry in the population df:\n"
     ]
    },
    {
     "data": {
      "text/plain": [
       "array(['Hondura', 'Czech Republic', 'Salvadoran', 'Saint Kitts and Nevis',\n",
       "       'Palauan', 'Ivorian', 'Saint Vincent and the Grenadines',\n",
       "       'Rhodesian', 'Omani', 'Congo, Dem. Rep. of', 'Niuean',\n",
       "       'East Timorese', 'Faroese', 'Cape Colony', 'South Korean',\n",
       "       'Samoan', 'Montserratian', 'Pitcairn Islands', 'Macedonia',\n",
       "       'Abkhazia', 'Carniolan', 'Saint Lucian', 'South African Republic',\n",
       "       'Incan', 'Chechen', 'Jersey', 'Guernsey', 'South Ossetian',\n",
       "       'Cook Island', 'Tokelauan', 'Swaziland', 'Dagestani',\n",
       "       'Greenlandic', 'Ossetian', 'Somaliland', 'Rojava'], dtype=object)"
      ]
     },
     "execution_count": 26,
     "metadata": {},
     "output_type": "execute_result"
    }
   ],
   "source": [
    "print('Countries which are present in the article quality df but has no matching entry in the population df:')\n",
    "countries_wiki[np.invert(np.in1d( countries_wiki, contries_pop))]"
   ]
  },
  {
   "cell_type": "markdown",
   "metadata": {},
   "source": [
    "#### It is already visible when comparing the arrays above. Therea are countries where the matching counterpart exists with diffent writing. \n",
    "Checked for some random examples if countries are not mathich because of different writing. Found for example Hondura and Congo, Dem. Rep"
   ]
  },
  {
   "cell_type": "code",
   "execution_count": 27,
   "metadata": {},
   "outputs": [
    {
     "data": {
      "text/html": [
       "<div>\n",
       "<style scoped>\n",
       "    .dataframe tbody tr th:only-of-type {\n",
       "        vertical-align: middle;\n",
       "    }\n",
       "\n",
       "    .dataframe tbody tr th {\n",
       "        vertical-align: top;\n",
       "    }\n",
       "\n",
       "    .dataframe thead th {\n",
       "        text-align: right;\n",
       "    }\n",
       "</style>\n",
       "<table border=\"1\" class=\"dataframe\">\n",
       "  <thead>\n",
       "    <tr style=\"text-align: right;\">\n",
       "      <th></th>\n",
       "      <th>Unnamed: 0</th>\n",
       "      <th>page</th>\n",
       "      <th>country</th>\n",
       "      <th>rev_id</th>\n",
       "      <th>quality</th>\n",
       "    </tr>\n",
       "  </thead>\n",
       "  <tbody>\n",
       "    <tr>\n",
       "      <th>22</th>\n",
       "      <td>22</td>\n",
       "      <td>Template:Honduras-politician-stub</td>\n",
       "      <td>Hondura</td>\n",
       "      <td>394587547</td>\n",
       "      <td>Stub</td>\n",
       "    </tr>\n",
       "    <tr>\n",
       "      <th>46</th>\n",
       "      <td>46</td>\n",
       "      <td>Template:Honduras-mayor-stub</td>\n",
       "      <td>Hondura</td>\n",
       "      <td>443469862</td>\n",
       "      <td>Stub</td>\n",
       "    </tr>\n",
       "    <tr>\n",
       "      <th>1155</th>\n",
       "      <td>1155</td>\n",
       "      <td>Céleo Arias</td>\n",
       "      <td>Hondura</td>\n",
       "      <td>704789339</td>\n",
       "      <td>Stub</td>\n",
       "    </tr>\n",
       "    <tr>\n",
       "      <th>1239</th>\n",
       "      <td>1239</td>\n",
       "      <td>Juan Francisco de Molina</td>\n",
       "      <td>Hondura</td>\n",
       "      <td>705346284</td>\n",
       "      <td>Stub</td>\n",
       "    </tr>\n",
       "    <tr>\n",
       "      <th>1240</th>\n",
       "      <td>1240</td>\n",
       "      <td>Felipe Neri Medina</td>\n",
       "      <td>Hondura</td>\n",
       "      <td>705346304</td>\n",
       "      <td>Stub</td>\n",
       "    </tr>\n",
       "    <tr>\n",
       "      <th>...</th>\n",
       "      <td>...</td>\n",
       "      <td>...</td>\n",
       "      <td>...</td>\n",
       "      <td>...</td>\n",
       "      <td>...</td>\n",
       "    </tr>\n",
       "    <tr>\n",
       "      <th>45822</th>\n",
       "      <td>45822</td>\n",
       "      <td>Selvin Laínez</td>\n",
       "      <td>Hondura</td>\n",
       "      <td>806796619</td>\n",
       "      <td>Stub</td>\n",
       "    </tr>\n",
       "    <tr>\n",
       "      <th>45988</th>\n",
       "      <td>45988</td>\n",
       "      <td>Ana Julia García</td>\n",
       "      <td>Hondura</td>\n",
       "      <td>806875293</td>\n",
       "      <td>Stub</td>\n",
       "    </tr>\n",
       "    <tr>\n",
       "      <th>46089</th>\n",
       "      <td>46089</td>\n",
       "      <td>Francisco Ferrera</td>\n",
       "      <td>Hondura</td>\n",
       "      <td>806948506</td>\n",
       "      <td>Stub</td>\n",
       "    </tr>\n",
       "    <tr>\n",
       "      <th>47076</th>\n",
       "      <td>47076</td>\n",
       "      <td>Juan Ángel Arias Boquín</td>\n",
       "      <td>Hondura</td>\n",
       "      <td>807445333</td>\n",
       "      <td>Start</td>\n",
       "    </tr>\n",
       "    <tr>\n",
       "      <th>47078</th>\n",
       "      <td>47078</td>\n",
       "      <td>Francisco Zelaya y Ayes</td>\n",
       "      <td>Hondura</td>\n",
       "      <td>807445395</td>\n",
       "      <td>Stub</td>\n",
       "    </tr>\n",
       "  </tbody>\n",
       "</table>\n",
       "<p>189 rows × 5 columns</p>\n",
       "</div>"
      ],
      "text/plain": [
       "       Unnamed: 0                               page  country     rev_id  \\\n",
       "22             22  Template:Honduras-politician-stub  Hondura  394587547   \n",
       "46             46       Template:Honduras-mayor-stub  Hondura  443469862   \n",
       "1155         1155                        Céleo Arias  Hondura  704789339   \n",
       "1239         1239           Juan Francisco de Molina  Hondura  705346284   \n",
       "1240         1240                 Felipe Neri Medina  Hondura  705346304   \n",
       "...           ...                                ...      ...        ...   \n",
       "45822       45822                      Selvin Laínez  Hondura  806796619   \n",
       "45988       45988                   Ana Julia García  Hondura  806875293   \n",
       "46089       46089                  Francisco Ferrera  Hondura  806948506   \n",
       "47076       47076            Juan Ángel Arias Boquín  Hondura  807445333   \n",
       "47078       47078            Francisco Zelaya y Ayes  Hondura  807445395   \n",
       "\n",
       "      quality  \n",
       "22       Stub  \n",
       "46       Stub  \n",
       "1155     Stub  \n",
       "1239     Stub  \n",
       "1240     Stub  \n",
       "...       ...  \n",
       "45822    Stub  \n",
       "45988    Stub  \n",
       "46089    Stub  \n",
       "47076   Start  \n",
       "47078    Stub  \n",
       "\n",
       "[189 rows x 5 columns]"
      ]
     },
     "execution_count": 27,
     "metadata": {},
     "output_type": "execute_result"
    }
   ],
   "source": [
    "merged_df[merged_df['country'].str.contains('Hondu')]"
   ]
  },
  {
   "cell_type": "code",
   "execution_count": 28,
   "metadata": {},
   "outputs": [
    {
     "data": {
      "text/html": [
       "<div>\n",
       "<style scoped>\n",
       "    .dataframe tbody tr th:only-of-type {\n",
       "        vertical-align: middle;\n",
       "    }\n",
       "\n",
       "    .dataframe tbody tr th {\n",
       "        vertical-align: top;\n",
       "    }\n",
       "\n",
       "    .dataframe thead th {\n",
       "        text-align: right;\n",
       "    }\n",
       "</style>\n",
       "<table border=\"1\" class=\"dataframe\">\n",
       "  <thead>\n",
       "    <tr style=\"text-align: right;\">\n",
       "      <th></th>\n",
       "      <th>country</th>\n",
       "      <th>population</th>\n",
       "      <th>region</th>\n",
       "    </tr>\n",
       "  </thead>\n",
       "  <tbody>\n",
       "    <tr>\n",
       "      <th>63</th>\n",
       "      <td>Honduras</td>\n",
       "      <td>9.864</td>\n",
       "      <td>LATIN AMERICA AND THE CARIBBEAN</td>\n",
       "    </tr>\n",
       "  </tbody>\n",
       "</table>\n",
       "</div>"
      ],
      "text/plain": [
       "     country  population                           region\n",
       "63  Honduras       9.864  LATIN AMERICA AND THE CARIBBEAN"
      ]
     },
     "execution_count": 28,
     "metadata": {},
     "output_type": "execute_result"
    }
   ],
   "source": [
    "population_df[population_df['country'].str.contains('Hondu')]"
   ]
  },
  {
   "cell_type": "code",
   "execution_count": 29,
   "metadata": {},
   "outputs": [
    {
     "data": {
      "text/html": [
       "<div>\n",
       "<style scoped>\n",
       "    .dataframe tbody tr th:only-of-type {\n",
       "        vertical-align: middle;\n",
       "    }\n",
       "\n",
       "    .dataframe tbody tr th {\n",
       "        vertical-align: top;\n",
       "    }\n",
       "\n",
       "    .dataframe thead th {\n",
       "        text-align: right;\n",
       "    }\n",
       "</style>\n",
       "<table border=\"1\" class=\"dataframe\">\n",
       "  <thead>\n",
       "    <tr style=\"text-align: right;\">\n",
       "      <th></th>\n",
       "      <th>Unnamed: 0</th>\n",
       "      <th>page</th>\n",
       "      <th>country</th>\n",
       "      <th>rev_id</th>\n",
       "      <th>quality</th>\n",
       "    </tr>\n",
       "  </thead>\n",
       "  <tbody>\n",
       "    <tr>\n",
       "      <th>290</th>\n",
       "      <td>290</td>\n",
       "      <td>Mavua Mudima</td>\n",
       "      <td>Congo, Dem. Rep. of</td>\n",
       "      <td>592289232</td>\n",
       "      <td>Stub</td>\n",
       "    </tr>\n",
       "    <tr>\n",
       "      <th>441</th>\n",
       "      <td>441</td>\n",
       "      <td>List of provincial governors of the Democratic...</td>\n",
       "      <td>Congo, Dem. Rep. of</td>\n",
       "      <td>663088604</td>\n",
       "      <td>Stub</td>\n",
       "    </tr>\n",
       "    <tr>\n",
       "      <th>562</th>\n",
       "      <td>562</td>\n",
       "      <td>Military Committee of the Congolese Party of L...</td>\n",
       "      <td>Congo</td>\n",
       "      <td>674702694</td>\n",
       "      <td>Stub</td>\n",
       "    </tr>\n",
       "    <tr>\n",
       "      <th>1296</th>\n",
       "      <td>1296</td>\n",
       "      <td>Eugène Diomi Ndongala Nzomambu</td>\n",
       "      <td>Congo, Dem. Rep. of</td>\n",
       "      <td>705390654</td>\n",
       "      <td>Stub</td>\n",
       "    </tr>\n",
       "    <tr>\n",
       "      <th>1344</th>\n",
       "      <td>1344</td>\n",
       "      <td>Théophile Mbemba Fundu</td>\n",
       "      <td>Congo, Dem. Rep. of</td>\n",
       "      <td>705707214</td>\n",
       "      <td>Stub</td>\n",
       "    </tr>\n",
       "    <tr>\n",
       "      <th>...</th>\n",
       "      <td>...</td>\n",
       "      <td>...</td>\n",
       "      <td>...</td>\n",
       "      <td>...</td>\n",
       "      <td>...</td>\n",
       "    </tr>\n",
       "    <tr>\n",
       "      <th>46088</th>\n",
       "      <td>46088</td>\n",
       "      <td>Jean-Chrysostome Werengemere</td>\n",
       "      <td>Congo, Dem. Rep. of</td>\n",
       "      <td>806947596</td>\n",
       "      <td>C</td>\n",
       "    </tr>\n",
       "    <tr>\n",
       "      <th>46501</th>\n",
       "      <td>46501</td>\n",
       "      <td>Jean-Pierre Bemba</td>\n",
       "      <td>Congo, Dem. Rep. of</td>\n",
       "      <td>807193274</td>\n",
       "      <td>GA</td>\n",
       "    </tr>\n",
       "    <tr>\n",
       "      <th>46603</th>\n",
       "      <td>46603</td>\n",
       "      <td>Jason Sendwe</td>\n",
       "      <td>Congo, Dem. Rep. of</td>\n",
       "      <td>807243537</td>\n",
       "      <td>C</td>\n",
       "    </tr>\n",
       "    <tr>\n",
       "      <th>46639</th>\n",
       "      <td>46639</td>\n",
       "      <td>Gérard Kamanda wa Kamanda</td>\n",
       "      <td>Congo, Dem. Rep. of</td>\n",
       "      <td>807258156</td>\n",
       "      <td>Stub</td>\n",
       "    </tr>\n",
       "    <tr>\n",
       "      <th>46671</th>\n",
       "      <td>46671</td>\n",
       "      <td>Patrice Lumumba</td>\n",
       "      <td>Congo, Dem. Rep. of</td>\n",
       "      <td>807273861</td>\n",
       "      <td>FA</td>\n",
       "    </tr>\n",
       "  </tbody>\n",
       "</table>\n",
       "<p>291 rows × 5 columns</p>\n",
       "</div>"
      ],
      "text/plain": [
       "       Unnamed: 0                                               page  \\\n",
       "290           290                                       Mavua Mudima   \n",
       "441           441  List of provincial governors of the Democratic...   \n",
       "562           562  Military Committee of the Congolese Party of L...   \n",
       "1296         1296                     Eugène Diomi Ndongala Nzomambu   \n",
       "1344         1344                             Théophile Mbemba Fundu   \n",
       "...           ...                                                ...   \n",
       "46088       46088                       Jean-Chrysostome Werengemere   \n",
       "46501       46501                                  Jean-Pierre Bemba   \n",
       "46603       46603                                       Jason Sendwe   \n",
       "46639       46639                          Gérard Kamanda wa Kamanda   \n",
       "46671       46671                                    Patrice Lumumba   \n",
       "\n",
       "                   country     rev_id quality  \n",
       "290    Congo, Dem. Rep. of  592289232    Stub  \n",
       "441    Congo, Dem. Rep. of  663088604    Stub  \n",
       "562                  Congo  674702694    Stub  \n",
       "1296   Congo, Dem. Rep. of  705390654    Stub  \n",
       "1344   Congo, Dem. Rep. of  705707214    Stub  \n",
       "...                    ...        ...     ...  \n",
       "46088  Congo, Dem. Rep. of  806947596       C  \n",
       "46501  Congo, Dem. Rep. of  807193274      GA  \n",
       "46603  Congo, Dem. Rep. of  807243537       C  \n",
       "46639  Congo, Dem. Rep. of  807258156    Stub  \n",
       "46671  Congo, Dem. Rep. of  807273861      FA  \n",
       "\n",
       "[291 rows x 5 columns]"
      ]
     },
     "execution_count": 29,
     "metadata": {},
     "output_type": "execute_result"
    }
   ],
   "source": [
    "merged_df[merged_df['country'].str.contains('Congo')]"
   ]
  },
  {
   "cell_type": "code",
   "execution_count": 62,
   "metadata": {},
   "outputs": [
    {
     "data": {
      "text/html": [
       "<div>\n",
       "<style scoped>\n",
       "    .dataframe tbody tr th:only-of-type {\n",
       "        vertical-align: middle;\n",
       "    }\n",
       "\n",
       "    .dataframe tbody tr th {\n",
       "        vertical-align: top;\n",
       "    }\n",
       "\n",
       "    .dataframe thead th {\n",
       "        text-align: right;\n",
       "    }\n",
       "</style>\n",
       "<table border=\"1\" class=\"dataframe\">\n",
       "  <thead>\n",
       "    <tr style=\"text-align: right;\">\n",
       "      <th></th>\n",
       "      <th>country</th>\n",
       "      <th>population</th>\n",
       "      <th>region</th>\n",
       "    </tr>\n",
       "  </thead>\n",
       "  <tbody>\n",
       "    <tr>\n",
       "      <th>0</th>\n",
       "      <td>Algeria</td>\n",
       "      <td>44.357</td>\n",
       "      <td>AFRICA</td>\n",
       "    </tr>\n",
       "    <tr>\n",
       "      <th>1</th>\n",
       "      <td>Egypt</td>\n",
       "      <td>100.803</td>\n",
       "      <td>AFRICA</td>\n",
       "    </tr>\n",
       "    <tr>\n",
       "      <th>2</th>\n",
       "      <td>Libya</td>\n",
       "      <td>6.891</td>\n",
       "      <td>AFRICA</td>\n",
       "    </tr>\n",
       "    <tr>\n",
       "      <th>3</th>\n",
       "      <td>Morocco</td>\n",
       "      <td>35.952</td>\n",
       "      <td>AFRICA</td>\n",
       "    </tr>\n",
       "    <tr>\n",
       "      <th>4</th>\n",
       "      <td>Sudan</td>\n",
       "      <td>43.849</td>\n",
       "      <td>AFRICA</td>\n",
       "    </tr>\n",
       "    <tr>\n",
       "      <th>...</th>\n",
       "      <td>...</td>\n",
       "      <td>...</td>\n",
       "      <td>...</td>\n",
       "    </tr>\n",
       "    <tr>\n",
       "      <th>205</th>\n",
       "      <td>Samoa</td>\n",
       "      <td>0.200</td>\n",
       "      <td>OCEANIA</td>\n",
       "    </tr>\n",
       "    <tr>\n",
       "      <th>206</th>\n",
       "      <td>Solomon Islands</td>\n",
       "      <td>715.000</td>\n",
       "      <td>OCEANIA</td>\n",
       "    </tr>\n",
       "    <tr>\n",
       "      <th>207</th>\n",
       "      <td>Tonga</td>\n",
       "      <td>99.000</td>\n",
       "      <td>OCEANIA</td>\n",
       "    </tr>\n",
       "    <tr>\n",
       "      <th>208</th>\n",
       "      <td>Tuvalu</td>\n",
       "      <td>0.010</td>\n",
       "      <td>OCEANIA</td>\n",
       "    </tr>\n",
       "    <tr>\n",
       "      <th>209</th>\n",
       "      <td>Vanuatu</td>\n",
       "      <td>321.000</td>\n",
       "      <td>OCEANIA</td>\n",
       "    </tr>\n",
       "  </tbody>\n",
       "</table>\n",
       "<p>208 rows × 3 columns</p>\n",
       "</div>"
      ],
      "text/plain": [
       "             country  population   region\n",
       "0            Algeria      44.357   AFRICA\n",
       "1              Egypt     100.803   AFRICA\n",
       "2              Libya       6.891   AFRICA\n",
       "3            Morocco      35.952   AFRICA\n",
       "4              Sudan      43.849   AFRICA\n",
       "..               ...         ...      ...\n",
       "205            Samoa       0.200  OCEANIA\n",
       "206  Solomon Islands     715.000  OCEANIA\n",
       "207            Tonga      99.000  OCEANIA\n",
       "208           Tuvalu       0.010  OCEANIA\n",
       "209          Vanuatu     321.000  OCEANIA\n",
       "\n",
       "[208 rows x 3 columns]"
      ]
     },
     "execution_count": 62,
     "metadata": {},
     "output_type": "execute_result"
    }
   ],
   "source": [
    "population_df[population_df['country'].str.contains('Congo')] "
   ]
  },
  {
   "cell_type": "markdown",
   "metadata": {},
   "source": [
    "#### Merging the dataframes"
   ]
  },
  {
   "cell_type": "code",
   "execution_count": 31,
   "metadata": {},
   "outputs": [],
   "source": [
    "merged_df_pop = pd.merge(merged_df, population_df, on='country', how='inner')"
   ]
  },
  {
   "cell_type": "code",
   "execution_count": 32,
   "metadata": {},
   "outputs": [],
   "source": [
    "merged_df_outer = pd.merge(merged_df, population_df, on='country', how='left')"
   ]
  },
  {
   "cell_type": "code",
   "execution_count": 33,
   "metadata": {},
   "outputs": [],
   "source": [
    "no_match_df = merged_df_outer[merged_df_outer['population'].isna()]"
   ]
  },
  {
   "cell_type": "code",
   "execution_count": 34,
   "metadata": {},
   "outputs": [
    {
     "data": {
      "text/plain": [
       "0"
      ]
     },
     "execution_count": 34,
     "metadata": {},
     "output_type": "execute_result"
    }
   ],
   "source": [
    "#small plausibility check. \n",
    "(len(merged_df) - len(merged_df_pop)) - len(no_match_df)"
   ]
  },
  {
   "cell_type": "code",
   "execution_count": 35,
   "metadata": {},
   "outputs": [
    {
     "data": {
      "text/html": [
       "<div>\n",
       "<style scoped>\n",
       "    .dataframe tbody tr th:only-of-type {\n",
       "        vertical-align: middle;\n",
       "    }\n",
       "\n",
       "    .dataframe tbody tr th {\n",
       "        vertical-align: top;\n",
       "    }\n",
       "\n",
       "    .dataframe thead th {\n",
       "        text-align: right;\n",
       "    }\n",
       "</style>\n",
       "<table border=\"1\" class=\"dataframe\">\n",
       "  <thead>\n",
       "    <tr style=\"text-align: right;\">\n",
       "      <th></th>\n",
       "      <th>Unnamed: 0</th>\n",
       "      <th>page</th>\n",
       "      <th>country</th>\n",
       "      <th>rev_id</th>\n",
       "      <th>quality</th>\n",
       "      <th>population</th>\n",
       "      <th>region</th>\n",
       "    </tr>\n",
       "  </thead>\n",
       "  <tbody>\n",
       "    <tr>\n",
       "      <th>0</th>\n",
       "      <td>0</td>\n",
       "      <td>Template:ZambiaProvincialMinisters</td>\n",
       "      <td>Zambia</td>\n",
       "      <td>235107991</td>\n",
       "      <td>RevisionNotFound: Could not find revision ({re...</td>\n",
       "      <td>18.384</td>\n",
       "      <td>AFRICA</td>\n",
       "    </tr>\n",
       "    <tr>\n",
       "      <th>1</th>\n",
       "      <td>12966</td>\n",
       "      <td>Gladys Lundwe</td>\n",
       "      <td>Zambia</td>\n",
       "      <td>757566606</td>\n",
       "      <td>Stub</td>\n",
       "      <td>18.384</td>\n",
       "      <td>AFRICA</td>\n",
       "    </tr>\n",
       "    <tr>\n",
       "      <th>2</th>\n",
       "      <td>14639</td>\n",
       "      <td>Mwamba Luchembe</td>\n",
       "      <td>Zambia</td>\n",
       "      <td>764848643</td>\n",
       "      <td>Stub</td>\n",
       "      <td>18.384</td>\n",
       "      <td>AFRICA</td>\n",
       "    </tr>\n",
       "    <tr>\n",
       "      <th>3</th>\n",
       "      <td>15474</td>\n",
       "      <td>Thandiwe Banda</td>\n",
       "      <td>Zambia</td>\n",
       "      <td>768166426</td>\n",
       "      <td>Start</td>\n",
       "      <td>18.384</td>\n",
       "      <td>AFRICA</td>\n",
       "    </tr>\n",
       "    <tr>\n",
       "      <th>4</th>\n",
       "      <td>17651</td>\n",
       "      <td>Sylvester Chisembele</td>\n",
       "      <td>Zambia</td>\n",
       "      <td>776082926</td>\n",
       "      <td>C</td>\n",
       "      <td>18.384</td>\n",
       "      <td>AFRICA</td>\n",
       "    </tr>\n",
       "    <tr>\n",
       "      <th>...</th>\n",
       "      <td>...</td>\n",
       "      <td>...</td>\n",
       "      <td>...</td>\n",
       "      <td>...</td>\n",
       "      <td>...</td>\n",
       "      <td>...</td>\n",
       "      <td>...</td>\n",
       "    </tr>\n",
       "    <tr>\n",
       "      <th>45301</th>\n",
       "      <td>37452</td>\n",
       "      <td>Rita Sinon</td>\n",
       "      <td>Seychelles</td>\n",
       "      <td>800323154</td>\n",
       "      <td>Stub</td>\n",
       "      <td>98.000</td>\n",
       "      <td>AFRICA</td>\n",
       "    </tr>\n",
       "    <tr>\n",
       "      <th>45302</th>\n",
       "      <td>37455</td>\n",
       "      <td>Sylvette Frichot</td>\n",
       "      <td>Seychelles</td>\n",
       "      <td>800323798</td>\n",
       "      <td>Stub</td>\n",
       "      <td>98.000</td>\n",
       "      <td>AFRICA</td>\n",
       "    </tr>\n",
       "    <tr>\n",
       "      <th>45303</th>\n",
       "      <td>38131</td>\n",
       "      <td>May De Silva</td>\n",
       "      <td>Seychelles</td>\n",
       "      <td>800969960</td>\n",
       "      <td>Start</td>\n",
       "      <td>98.000</td>\n",
       "      <td>AFRICA</td>\n",
       "    </tr>\n",
       "    <tr>\n",
       "      <th>45304</th>\n",
       "      <td>39505</td>\n",
       "      <td>Vincent Meriton</td>\n",
       "      <td>Seychelles</td>\n",
       "      <td>802051093</td>\n",
       "      <td>Stub</td>\n",
       "      <td>98.000</td>\n",
       "      <td>AFRICA</td>\n",
       "    </tr>\n",
       "    <tr>\n",
       "      <th>45305</th>\n",
       "      <td>41929</td>\n",
       "      <td>Marie-Louise Potter</td>\n",
       "      <td>Seychelles</td>\n",
       "      <td>804209620</td>\n",
       "      <td>Stub</td>\n",
       "      <td>98.000</td>\n",
       "      <td>AFRICA</td>\n",
       "    </tr>\n",
       "  </tbody>\n",
       "</table>\n",
       "<p>45306 rows × 7 columns</p>\n",
       "</div>"
      ],
      "text/plain": [
       "       Unnamed: 0                                page     country     rev_id  \\\n",
       "0               0  Template:ZambiaProvincialMinisters      Zambia  235107991   \n",
       "1           12966                       Gladys Lundwe      Zambia  757566606   \n",
       "2           14639                     Mwamba Luchembe      Zambia  764848643   \n",
       "3           15474                      Thandiwe Banda      Zambia  768166426   \n",
       "4           17651                Sylvester Chisembele      Zambia  776082926   \n",
       "...           ...                                 ...         ...        ...   \n",
       "45301       37452                          Rita Sinon  Seychelles  800323154   \n",
       "45302       37455                    Sylvette Frichot  Seychelles  800323798   \n",
       "45303       38131                        May De Silva  Seychelles  800969960   \n",
       "45304       39505                     Vincent Meriton  Seychelles  802051093   \n",
       "45305       41929                 Marie-Louise Potter  Seychelles  804209620   \n",
       "\n",
       "                                                 quality  population  region  \n",
       "0      RevisionNotFound: Could not find revision ({re...      18.384  AFRICA  \n",
       "1                                                   Stub      18.384  AFRICA  \n",
       "2                                                   Stub      18.384  AFRICA  \n",
       "3                                                  Start      18.384  AFRICA  \n",
       "4                                                      C      18.384  AFRICA  \n",
       "...                                                  ...         ...     ...  \n",
       "45301                                               Stub      98.000  AFRICA  \n",
       "45302                                               Stub      98.000  AFRICA  \n",
       "45303                                              Start      98.000  AFRICA  \n",
       "45304                                               Stub      98.000  AFRICA  \n",
       "45305                                               Stub      98.000  AFRICA  \n",
       "\n",
       "[45306 rows x 7 columns]"
      ]
     },
     "execution_count": 35,
     "metadata": {},
     "output_type": "execute_result"
    }
   ],
   "source": [
    "merged_df_pop"
   ]
  },
  {
   "cell_type": "code",
   "execution_count": 36,
   "metadata": {},
   "outputs": [],
   "source": [
    "store_preprocessed(merged_df_pop, 'politicians_by_country')"
   ]
  },
  {
   "cell_type": "code",
   "execution_count": 37,
   "metadata": {},
   "outputs": [],
   "source": [
    "store_preprocessed(no_match_df, 'countries-no_match')"
   ]
  },
  {
   "cell_type": "markdown",
   "metadata": {},
   "source": []
  },
  {
   "cell_type": "markdown",
   "metadata": {},
   "source": [
    "## Step 3⃣ | Analysis\n",
    "\n",
    "Your analysis will consist of calculating the proportion (as a percentage) of articles-per-population (we can also call it `coverage`) and high-quality articles (we can also call it `relative-quality`)for **each country** and for **each region**. By `\"high quality\"` arcticle we mean an article that ORES predicted as `FA` (featured article) or `GA` (good article).\n",
    "\n",
    "**Examples:**\n",
    "\n",
    "* if a country has a population of `10,000` people, and you found `10` articles about politicians from that country, then the percentage of `articles-per-population` would be `0.1%`.\n",
    "* if a country has `10` articles about politicians, and `2` of them are `FA` or `GA` class articles, then the percentage of `high-quality-articles` would be `20%`."
   ]
  },
  {
   "cell_type": "markdown",
   "metadata": {},
   "source": [
    "### Results format\n",
    "\n",
    "The results from this analysis are six `data tables`. Embed these tables in the Jupyter notebook. You do not need to graph or otherwise visualize the data for this assignment. The tables will show:\n",
    "\n",
    "1. **Top 10 countries by coverage**<br>10 highest-ranked countries in terms of number of politician articles as a proportion of country population\n",
    "1. **Bottom 10 countries by coverage**<br>10 lowest-ranked countries in terms of number of politician articles as a proportion of country population\n",
    "1. **Top 10 countries by relative quality**<br>10 highest-ranked countries in terms of the relative proportion of politician articles that are of GA and FA-quality\n",
    "1. **Bottom 10 countries by relative quality**<br>10 lowest-ranked countries in terms of the relative proportion of politician articles that are of GA and FA-quality\n",
    "1. **Regions by coverage**<br>Ranking of regions (in descending order) in terms of the total count of politician articles from countries in each region as a proportion of total regional population\n",
    "1. **Regions by coverage**<br>Ranking of regions (in descending order) in terms of the relative proportion of politician articles from countries in each region that are of GA and FA-quality\n",
    "\n",
    "**❗Hint:** You will find what country belongs to which region (e.g. `ASIA`) also in `export_2019.csv`. You need to calculate the total poulation per region. For that you could use `groupby` and also check out `apply`."
   ]
  },
  {
   "cell_type": "markdown",
   "metadata": {},
   "source": [
    "#### There are some missalignments with the unit in which the population is represented.\n",
    "For some countries the pop. is represented in millions. These are countries with high population and some countries where the population is represented in thousands. These are smaller countires like Guyana with. Without fixing this differnt representation in the dataset comparison related to population is for most of the cases wrong."
   ]
  },
  {
   "cell_type": "markdown",
   "metadata": {},
   "source": [
    "In the following example only countries like *China* or *USA* or *India* have a higher pop. then 300Mil. inhabitants but smaller countries are also listed as for them the pop. is represented in thousands. "
   ]
  },
  {
   "cell_type": "code",
   "execution_count": 65,
   "metadata": {},
   "outputs": [],
   "source": [
    "#merged_df_pop = merged_df_pop[~merged_df_pop['quality'].str.contains('RevisionNotFound:')]"
   ]
  },
  {
   "cell_type": "code",
   "execution_count": 66,
   "metadata": {},
   "outputs": [
    {
     "data": {
      "text/plain": [
       "array(['Fiji', 'Solomon Islands', 'India', 'Iceland', 'Luxembourg',\n",
       "       'United States', 'China', 'Djibouti', 'Vanuatu', 'Malta', 'Guyana',\n",
       "       'Maldives', 'Montenegro', 'Suriname', 'Martinique', 'Guadeloupe',\n",
       "       'Cape Verde', 'Bahamas', 'Belize'], dtype=object)"
      ]
     },
     "execution_count": 66,
     "metadata": {},
     "output_type": "execute_result"
    }
   ],
   "source": [
    "pd.unique(merged_df_pop[merged_df_pop['population'] > 300]['country'])"
   ]
  },
  {
   "cell_type": "markdown",
   "metadata": {},
   "source": [
    "But not all low pop. countries pop. is represented in thousands. So there is no rule this dataset is following:"
   ]
  },
  {
   "cell_type": "code",
   "execution_count": 67,
   "metadata": {},
   "outputs": [
    {
     "data": {
      "text/plain": [
       "array(['Tuvalu', 'Sao Tome and Principe', 'Bhutan', 'Comoros'],\n",
       "      dtype=object)"
      ]
     },
     "execution_count": 67,
     "metadata": {},
     "output_type": "execute_result"
    }
   ],
   "source": [
    "pd.unique(merged_df_pop[merged_df_pop['population'] < 0.9]['country'])"
   ]
  },
  {
   "cell_type": "markdown",
   "metadata": {},
   "source": [
    "1. **Top 10 countries by coverage**<br>10 highest-ranked countries in terms of number of politician articles as a proportion of country population"
   ]
  },
  {
   "cell_type": "code",
   "execution_count": 68,
   "metadata": {},
   "outputs": [],
   "source": [
    "pop_artc_propotion_df = pd.DataFrame({'country': [], 'art_prop': [] }, columns = ['country', 'art_prop'])\n",
    "countries = pd.unique(merged_df_pop['country'])\n",
    "#ratio: (sum(articles)/population) * 100\n",
    "\n",
    "for country in countries:\n",
    "    new_row = pd.Series(data={'country':country, \n",
    "                              'art_prop': (len(merged_df_pop[merged_df_pop['country'] == country]) / merged_df_pop[merged_df_pop['country'] == country]['population'].iloc[0]) / 100 })\n",
    "\n",
    "    pop_artc_propotion_df = pop_artc_propotion_df.append(new_row, ignore_index=True)\n"
   ]
  },
  {
   "cell_type": "code",
   "execution_count": 69,
   "metadata": {
    "scrolled": false
   },
   "outputs": [
    {
     "data": {
      "text/plain": [
       "country         Guyana\n",
       "art_prop    0.00025413\n",
       "Name: 139, dtype: object"
      ]
     },
     "execution_count": 69,
     "metadata": {},
     "output_type": "execute_result"
    }
   ],
   "source": [
    "pop_artc_propotion_df.iloc[pop_artc_propotion_df['art_prop'].argmin()]"
   ]
  },
  {
   "cell_type": "code",
   "execution_count": 70,
   "metadata": {
    "scrolled": false
   },
   "outputs": [
    {
     "data": {
      "text/plain": [
       "country     Tuvalu\n",
       "art_prop        55\n",
       "Name: 112, dtype: object"
      ]
     },
     "execution_count": 70,
     "metadata": {},
     "output_type": "execute_result"
    }
   ],
   "source": [
    "pop_artc_propotion_df.iloc[pop_artc_propotion_df['art_prop'].argmax()]"
   ]
  },
  {
   "cell_type": "code",
   "execution_count": 71,
   "metadata": {},
   "outputs": [
    {
     "data": {
      "text/html": [
       "\n",
       "<div id=\"altair-viz-0fb95a668aa4401288583ba34973328b\"></div>\n",
       "<script type=\"text/javascript\">\n",
       "  (function(spec, embedOpt){\n",
       "    let outputDiv = document.currentScript.previousElementSibling;\n",
       "    if (outputDiv.id !== \"altair-viz-0fb95a668aa4401288583ba34973328b\") {\n",
       "      outputDiv = document.getElementById(\"altair-viz-0fb95a668aa4401288583ba34973328b\");\n",
       "    }\n",
       "    const paths = {\n",
       "      \"vega\": \"https://cdn.jsdelivr.net/npm//vega@5?noext\",\n",
       "      \"vega-lib\": \"https://cdn.jsdelivr.net/npm//vega-lib?noext\",\n",
       "      \"vega-lite\": \"https://cdn.jsdelivr.net/npm//vega-lite@4.8.1?noext\",\n",
       "      \"vega-embed\": \"https://cdn.jsdelivr.net/npm//vega-embed@6?noext\",\n",
       "    };\n",
       "\n",
       "    function loadScript(lib) {\n",
       "      return new Promise(function(resolve, reject) {\n",
       "        var s = document.createElement('script');\n",
       "        s.src = paths[lib];\n",
       "        s.async = true;\n",
       "        s.onload = () => resolve(paths[lib]);\n",
       "        s.onerror = () => reject(`Error loading script: ${paths[lib]}`);\n",
       "        document.getElementsByTagName(\"head\")[0].appendChild(s);\n",
       "      });\n",
       "    }\n",
       "\n",
       "    function showError(err) {\n",
       "      outputDiv.innerHTML = `<div class=\"error\" style=\"color:red;\">${err}</div>`;\n",
       "      throw err;\n",
       "    }\n",
       "\n",
       "    function displayChart(vegaEmbed) {\n",
       "      vegaEmbed(outputDiv, spec, embedOpt)\n",
       "        .catch(err => showError(`Javascript Error: ${err.message}<br>This usually means there's a typo in your chart specification. See the javascript console for the full traceback.`));\n",
       "    }\n",
       "\n",
       "    if(typeof define === \"function\" && define.amd) {\n",
       "      requirejs.config({paths});\n",
       "      require([\"vega-embed\"], displayChart, err => showError(`Error loading script: ${err.message}`));\n",
       "    } else if (typeof vegaEmbed === \"function\") {\n",
       "      displayChart(vegaEmbed);\n",
       "    } else {\n",
       "      loadScript(\"vega\")\n",
       "        .then(() => loadScript(\"vega-lite\"))\n",
       "        .then(() => loadScript(\"vega-embed\"))\n",
       "        .catch(showError)\n",
       "        .then(() => displayChart(vegaEmbed));\n",
       "    }\n",
       "  })({\"config\": {\"view\": {\"continuousWidth\": 400, \"continuousHeight\": 300}}, \"data\": {\"name\": \"data-1ae44e25d6f04ce8bd7547dde1703109\"}, \"mark\": \"bar\", \"encoding\": {\"x\": {\"type\": \"quantitative\", \"field\": \"art_prop\", \"title\": \"proportion of population / number of politician articles\"}, \"y\": {\"type\": \"nominal\", \"field\": \"country\", \"sort\": \"-x\", \"title\": \"country\"}}, \"height\": 250, \"title\": {\"text\": [\"Top 10 countries by coverage\"], \"subtitle\": [\"10 highest-ranked countries in terms of number of politician articles as a proportion of country population\"], \"color\": \"black\", \"subtitleColor\": \"darkgray\"}, \"width\": 800, \"$schema\": \"https://vega.github.io/schema/vega-lite/v4.8.1.json\", \"datasets\": {\"data-1ae44e25d6f04ce8bd7547dde1703109\": [{\"country\": \"Tuvalu\", \"art_prop\": 55.0}, {\"country\": \"Albania\", \"art_prop\": 1.6208597603946442}, {\"country\": \"New Zealand\", \"art_prop\": 1.5841187086424704}, {\"country\": \"Norway\", \"art_prop\": 1.2214590681269721}, {\"country\": \"Moldova\", \"art_prop\": 1.2022630834512023}, {\"country\": \"Estonia\", \"art_prop\": 1.1419984973703983}, {\"country\": \"Sao Tome and Principe\", \"art_prop\": 1.0476190476190477}, {\"country\": \"Finland\", \"art_prop\": 1.0327364803761983}, {\"country\": \"Lithuania\", \"art_prop\": 0.887616320687187}, {\"country\": \"Cyprus\", \"art_prop\": 0.8367854183927093}]}}, {\"mode\": \"vega-lite\"});\n",
       "</script>"
      ],
      "text/plain": [
       "alt.Chart(...)"
      ]
     },
     "execution_count": 71,
     "metadata": {},
     "output_type": "execute_result"
    }
   ],
   "source": [
    "alt.Chart(pop_artc_propotion_df.sort_values(by=['art_prop'], ascending=False)[0:10] ).mark_bar().encode(\n",
    "    y = alt.Y('country:N', sort='-x', title='country'),\n",
    "    x = alt.X('art_prop:Q', title='proportion of population / number of politician articles')\n",
    ").properties(\n",
    "    width=800,\n",
    "    height=250,\n",
    "    title={\n",
    "      \"text\": [\"Top 10 countries by coverage\"], \n",
    "      \"subtitle\": [\"10 highest-ranked countries in terms of number of politician articles as a proportion of country population\"],\n",
    "      \"color\": \"black\",\n",
    "      \"subtitleColor\": \"darkgray\"    \n",
    "    }\n",
    ")"
   ]
  },
  {
   "cell_type": "markdown",
   "metadata": {},
   "source": [
    "2. **Bottom 10 countries by coverage**<br>10 lowest-ranked countries in terms of number of politician articles as a proportion of country population"
   ]
  },
  {
   "cell_type": "code",
   "execution_count": 72,
   "metadata": {},
   "outputs": [
    {
     "data": {
      "text/html": [
       "\n",
       "<div id=\"altair-viz-1eb11e97d45c4ae49874d7c99f4c3d2e\"></div>\n",
       "<script type=\"text/javascript\">\n",
       "  (function(spec, embedOpt){\n",
       "    let outputDiv = document.currentScript.previousElementSibling;\n",
       "    if (outputDiv.id !== \"altair-viz-1eb11e97d45c4ae49874d7c99f4c3d2e\") {\n",
       "      outputDiv = document.getElementById(\"altair-viz-1eb11e97d45c4ae49874d7c99f4c3d2e\");\n",
       "    }\n",
       "    const paths = {\n",
       "      \"vega\": \"https://cdn.jsdelivr.net/npm//vega@5?noext\",\n",
       "      \"vega-lib\": \"https://cdn.jsdelivr.net/npm//vega-lib?noext\",\n",
       "      \"vega-lite\": \"https://cdn.jsdelivr.net/npm//vega-lite@4.8.1?noext\",\n",
       "      \"vega-embed\": \"https://cdn.jsdelivr.net/npm//vega-embed@6?noext\",\n",
       "    };\n",
       "\n",
       "    function loadScript(lib) {\n",
       "      return new Promise(function(resolve, reject) {\n",
       "        var s = document.createElement('script');\n",
       "        s.src = paths[lib];\n",
       "        s.async = true;\n",
       "        s.onload = () => resolve(paths[lib]);\n",
       "        s.onerror = () => reject(`Error loading script: ${paths[lib]}`);\n",
       "        document.getElementsByTagName(\"head\")[0].appendChild(s);\n",
       "      });\n",
       "    }\n",
       "\n",
       "    function showError(err) {\n",
       "      outputDiv.innerHTML = `<div class=\"error\" style=\"color:red;\">${err}</div>`;\n",
       "      throw err;\n",
       "    }\n",
       "\n",
       "    function displayChart(vegaEmbed) {\n",
       "      vegaEmbed(outputDiv, spec, embedOpt)\n",
       "        .catch(err => showError(`Javascript Error: ${err.message}<br>This usually means there's a typo in your chart specification. See the javascript console for the full traceback.`));\n",
       "    }\n",
       "\n",
       "    if(typeof define === \"function\" && define.amd) {\n",
       "      requirejs.config({paths});\n",
       "      require([\"vega-embed\"], displayChart, err => showError(`Error loading script: ${err.message}`));\n",
       "    } else if (typeof vegaEmbed === \"function\") {\n",
       "      displayChart(vegaEmbed);\n",
       "    } else {\n",
       "      loadScript(\"vega\")\n",
       "        .then(() => loadScript(\"vega-lite\"))\n",
       "        .then(() => loadScript(\"vega-embed\"))\n",
       "        .catch(showError)\n",
       "        .then(() => displayChart(vegaEmbed));\n",
       "    }\n",
       "  })({\"config\": {\"view\": {\"continuousWidth\": 400, \"continuousHeight\": 300}}, \"data\": {\"name\": \"data-bb97ca5eb9fd4ca549e688aab3b1d7fd\"}, \"mark\": \"bar\", \"encoding\": {\"x\": {\"type\": \"quantitative\", \"field\": \"art_prop\", \"title\": \"proportion of population / number of politician articles\"}, \"y\": {\"type\": \"nominal\", \"field\": \"country\", \"sort\": \"x\", \"title\": \"country\"}}, \"height\": 250, \"title\": {\"text\": [\"Bottom 10 countries by coverage\"], \"subtitle\": [\"10 lowest-ranked countries in terms of number of politician articles as a proportion of country population\"], \"color\": \"black\", \"subtitleColor\": \"darkgray\"}, \"width\": 800, \"$schema\": \"https://vega.github.io/schema/vega-lite/v4.8.1.json\", \"datasets\": {\"data-bb97ca5eb9fd4ca549e688aab3b1d7fd\": [{\"country\": \"Guyana\", \"art_prop\": 0.00025412960609911054}, {\"country\": \"Belize\", \"art_prop\": 0.00038186157517899763}, {\"country\": \"Djibouti\", \"art_prop\": 0.00039473684210526315}, {\"country\": \"Barbados\", \"art_prop\": 0.0004878048780487805}, {\"country\": \"Bahamas\", \"art_prop\": 0.0005089058524173028}, {\"country\": \"Cape Verde\", \"art_prop\": 0.0006474820143884892}, {\"country\": \"Suriname\", \"art_prop\": 0.0006611570247933885}, {\"country\": \"French Guiana\", \"art_prop\": 0.0009523809523809524}, {\"country\": \"Martinique\", \"art_prop\": 0.0009550561797752808}, {\"country\": \"Montenegro\", \"art_prop\": 0.001189710610932476}]}}, {\"mode\": \"vega-lite\"});\n",
       "</script>"
      ],
      "text/plain": [
       "alt.Chart(...)"
      ]
     },
     "execution_count": 72,
     "metadata": {},
     "output_type": "execute_result"
    }
   ],
   "source": [
    "alt.Chart(pop_artc_propotion_df.sort_values(by=['art_prop'], ascending=True)[:10] ).mark_bar().encode(\n",
    "    y = alt.Y('country:N', sort='x', title='country'),\n",
    "    x = alt.X('art_prop:Q', title='proportion of population / number of politician articles')\n",
    ").properties(\n",
    "    width=800,\n",
    "    height=250,\n",
    "    title={\n",
    "      \"text\": [\"Bottom 10 countries by coverage\"], \n",
    "      \"subtitle\": [\"10 lowest-ranked countries in terms of number of politician articles as a proportion of country population\"],\n",
    "      \"color\": \"black\",\n",
    "      \"subtitleColor\": \"darkgray\"    \n",
    "    }\n",
    ")"
   ]
  },
  {
   "cell_type": "markdown",
   "metadata": {},
   "source": [
    "3. **Top 10 countries by relative quality**<br>10 highest-ranked countries in terms of the relative proportion of politician articles that are of GA and FA-quality"
   ]
  },
  {
   "cell_type": "code",
   "execution_count": 73,
   "metadata": {},
   "outputs": [],
   "source": [
    "artc_quality_rank_df = pd.DataFrame({'country': [], 'high_ratio': [] , 'all articles': [], 'high_quality_art': [] }, columns = ['country', 'high_ratio', 'all articles','high_quality_art'])\n",
    "#countries = pd.unique(merged_df_pop['country'])\n",
    "#ratio: (sum(articles)/population) * 100\n",
    "\n",
    "for country in countries:\n",
    "    \n",
    "    all_articles  = len(merged_df_pop[(merged_df_pop['country'] == country)])\n",
    "    good_articles = len(merged_df_pop[(merged_df_pop['country'] == country) & ((merged_df_pop['quality'] == 'FA') | (merged_df_pop['quality'] == 'GA'))])\n",
    "                                     \n",
    "    if(good_articles > 0):\n",
    "        good_art_ratio = good_articles / all_articles \n",
    "    else:\n",
    "        good_art_ratio = 0\n",
    " \n",
    "    new_row = pd.Series(data={'country':country, \n",
    "                              'high_ratio': good_art_ratio,\n",
    "                               'all articles': all_articles,\n",
    "                               'high_quality_art': good_articles})\n",
    "\n",
    "    artc_quality_rank_df = artc_quality_rank_df.append(new_row, ignore_index=True)"
   ]
  },
  {
   "cell_type": "code",
   "execution_count": 74,
   "metadata": {},
   "outputs": [],
   "source": [
    "#remove all which has no high quality articles.\n",
    "artc_quality_rank_df = artc_quality_rank_df[artc_quality_rank_df['high_ratio'] > 0]"
   ]
  },
  {
   "cell_type": "code",
   "execution_count": 75,
   "metadata": {},
   "outputs": [
    {
     "data": {
      "text/plain": [
       "1"
      ]
     },
     "execution_count": 75,
     "metadata": {},
     "output_type": "execute_result"
    }
   ],
   "source": [
    "country = 'Switzerland'\n",
    "len(merged_df_pop[(merged_df_pop['country'] == country) & ((merged_df_pop['quality'] == 'FA') | (merged_df_pop['quality'] == 'GA'))])"
   ]
  },
  {
   "cell_type": "code",
   "execution_count": 76,
   "metadata": {},
   "outputs": [
    {
     "data": {
      "text/plain": [
       "406"
      ]
     },
     "execution_count": 76,
     "metadata": {},
     "output_type": "execute_result"
    }
   ],
   "source": [
    "len(merged_df_pop[(merged_df_pop['country'] == country )])"
   ]
  },
  {
   "cell_type": "code",
   "execution_count": 77,
   "metadata": {},
   "outputs": [
    {
     "data": {
      "text/plain": [
       "country             Korea, North\n",
       "high_ratio              0.205128\n",
       "all articles                  39\n",
       "high_quality_art               8\n",
       "Name: 117, dtype: object"
      ]
     },
     "execution_count": 77,
     "metadata": {},
     "output_type": "execute_result"
    }
   ],
   "source": [
    "artc_quality_rank_df.iloc[artc_quality_rank_df['high_ratio'].argmax()]"
   ]
  },
  {
   "cell_type": "code",
   "execution_count": 78,
   "metadata": {},
   "outputs": [
    {
     "data": {
      "text/plain": [
       "country                Belgium\n",
       "high_ratio          0.00191571\n",
       "all articles               522\n",
       "high_quality_art             1\n",
       "Name: 64, dtype: object"
      ]
     },
     "execution_count": 78,
     "metadata": {},
     "output_type": "execute_result"
    }
   ],
   "source": [
    "artc_quality_rank_df.iloc[artc_quality_rank_df['high_ratio'].argmin()]"
   ]
  },
  {
   "cell_type": "code",
   "execution_count": 79,
   "metadata": {},
   "outputs": [],
   "source": [
    "top_10 = alt.Chart(artc_quality_rank_df.sort_values(by=['high_ratio'], ascending=False)[:10] ).mark_bar().encode(\n",
    "    y = alt.Y('country:N', sort='-x', title='country'),\n",
    "    x = alt.X('high_ratio:Q', title='proposion: total politician article / article with high quality'),\n",
    "    tooltip = ['all articles:Q', 'high_quality_art:Q']\n",
    ").properties(\n",
    "    width=800,\n",
    "    height=250,\n",
    "    title={\n",
    "      \"text\": [\"Top 10 countries by relative quality\"], \n",
    "      \"subtitle\": [\"10 highest-ranked countries in terms of the relative proportion of politician articles that are of GA and FA-quality\"],\n",
    "      \"color\": \"black\",\n",
    "      \"subtitleColor\": \"darkgray\"    \n",
    "    }\n",
    ")"
   ]
  },
  {
   "cell_type": "markdown",
   "metadata": {},
   "source": [
    "4. **Bottom 10 countries by relative quality**<br>10 lowest-ranked countries in terms of the relative proportion of politician articles that are of GA and FA-quality"
   ]
  },
  {
   "cell_type": "code",
   "execution_count": 80,
   "metadata": {},
   "outputs": [],
   "source": [
    "bottom_10 = alt.Chart(artc_quality_rank_df.sort_values(by=['high_ratio'], ascending=True)[:10] ).mark_bar().encode(\n",
    "    y = alt.Y('country:N', sort='x', title='country'),\n",
    "    x = alt.X('high_ratio:Q', title='proposion: total politician article / article with high quality'),\n",
    "    tooltip = ['all articles:Q', 'high_quality_art:Q']\n",
    ").properties(\n",
    "    width=800,\n",
    "    height=250,\n",
    "    title={\n",
    "      \"text\": [\"Bottom 10 countries by relative quality\"], \n",
    "      \"subtitle\": [\"10 lowest-ranked countries in terms of the relative proportion of politician articles that are of GA and FA-quality\"],\n",
    "      \"color\": \"black\",\n",
    "      \"subtitleColor\": \"darkgray\"    \n",
    "    }\n",
    ")"
   ]
  },
  {
   "cell_type": "code",
   "execution_count": 81,
   "metadata": {},
   "outputs": [
    {
     "data": {
      "text/html": [
       "\n",
       "<div id=\"altair-viz-b78e259324c6471ca27ac5a909f54136\"></div>\n",
       "<script type=\"text/javascript\">\n",
       "  (function(spec, embedOpt){\n",
       "    let outputDiv = document.currentScript.previousElementSibling;\n",
       "    if (outputDiv.id !== \"altair-viz-b78e259324c6471ca27ac5a909f54136\") {\n",
       "      outputDiv = document.getElementById(\"altair-viz-b78e259324c6471ca27ac5a909f54136\");\n",
       "    }\n",
       "    const paths = {\n",
       "      \"vega\": \"https://cdn.jsdelivr.net/npm//vega@5?noext\",\n",
       "      \"vega-lib\": \"https://cdn.jsdelivr.net/npm//vega-lib?noext\",\n",
       "      \"vega-lite\": \"https://cdn.jsdelivr.net/npm//vega-lite@4.8.1?noext\",\n",
       "      \"vega-embed\": \"https://cdn.jsdelivr.net/npm//vega-embed@6?noext\",\n",
       "    };\n",
       "\n",
       "    function loadScript(lib) {\n",
       "      return new Promise(function(resolve, reject) {\n",
       "        var s = document.createElement('script');\n",
       "        s.src = paths[lib];\n",
       "        s.async = true;\n",
       "        s.onload = () => resolve(paths[lib]);\n",
       "        s.onerror = () => reject(`Error loading script: ${paths[lib]}`);\n",
       "        document.getElementsByTagName(\"head\")[0].appendChild(s);\n",
       "      });\n",
       "    }\n",
       "\n",
       "    function showError(err) {\n",
       "      outputDiv.innerHTML = `<div class=\"error\" style=\"color:red;\">${err}</div>`;\n",
       "      throw err;\n",
       "    }\n",
       "\n",
       "    function displayChart(vegaEmbed) {\n",
       "      vegaEmbed(outputDiv, spec, embedOpt)\n",
       "        .catch(err => showError(`Javascript Error: ${err.message}<br>This usually means there's a typo in your chart specification. See the javascript console for the full traceback.`));\n",
       "    }\n",
       "\n",
       "    if(typeof define === \"function\" && define.amd) {\n",
       "      requirejs.config({paths});\n",
       "      require([\"vega-embed\"], displayChart, err => showError(`Error loading script: ${err.message}`));\n",
       "    } else if (typeof vegaEmbed === \"function\") {\n",
       "      displayChart(vegaEmbed);\n",
       "    } else {\n",
       "      loadScript(\"vega\")\n",
       "        .then(() => loadScript(\"vega-lite\"))\n",
       "        .then(() => loadScript(\"vega-embed\"))\n",
       "        .catch(showError)\n",
       "        .then(() => displayChart(vegaEmbed));\n",
       "    }\n",
       "  })({\"config\": {\"view\": {\"continuousWidth\": 400, \"continuousHeight\": 300}}, \"vconcat\": [{\"data\": {\"name\": \"data-045a3205810e1e5a3a10d456c65f1d0f\"}, \"mark\": \"bar\", \"encoding\": {\"tooltip\": [{\"type\": \"quantitative\", \"field\": \"all articles\"}, {\"type\": \"quantitative\", \"field\": \"high_quality_art\"}], \"x\": {\"type\": \"quantitative\", \"field\": \"high_ratio\", \"title\": \"proposion: total politician article / article with high quality\"}, \"y\": {\"type\": \"nominal\", \"field\": \"country\", \"sort\": \"-x\", \"title\": \"country\"}}, \"height\": 250, \"title\": {\"text\": [\"Top 10 countries by relative quality\"], \"subtitle\": [\"10 highest-ranked countries in terms of the relative proportion of politician articles that are of GA and FA-quality\"], \"color\": \"black\", \"subtitleColor\": \"darkgray\"}, \"width\": 800}, {\"data\": {\"name\": \"data-795cd9bb757d2aa224724f73557a72a9\"}, \"mark\": \"bar\", \"encoding\": {\"tooltip\": [{\"type\": \"quantitative\", \"field\": \"all articles\"}, {\"type\": \"quantitative\", \"field\": \"high_quality_art\"}], \"x\": {\"type\": \"quantitative\", \"field\": \"high_ratio\", \"title\": \"proposion: total politician article / article with high quality\"}, \"y\": {\"type\": \"nominal\", \"field\": \"country\", \"sort\": \"x\", \"title\": \"country\"}}, \"height\": 250, \"title\": {\"text\": [\"Bottom 10 countries by relative quality\"], \"subtitle\": [\"10 lowest-ranked countries in terms of the relative proportion of politician articles that are of GA and FA-quality\"], \"color\": \"black\", \"subtitleColor\": \"darkgray\"}, \"width\": 800}], \"$schema\": \"https://vega.github.io/schema/vega-lite/v4.8.1.json\", \"datasets\": {\"data-045a3205810e1e5a3a10d456c65f1d0f\": [{\"country\": \"Korea, North\", \"high_ratio\": 0.20512820512820512, \"all articles\": 39.0, \"high_quality_art\": 8.0}, {\"country\": \"Saudi Arabia\", \"high_ratio\": 0.1271186440677966, \"all articles\": 118.0, \"high_quality_art\": 15.0}, {\"country\": \"Romania\", \"high_ratio\": 0.1206896551724138, \"all articles\": 348.0, \"high_quality_art\": 42.0}, {\"country\": \"Central African Republic\", \"high_ratio\": 0.11764705882352941, \"all articles\": 68.0, \"high_quality_art\": 8.0}, {\"country\": \"Uzbekistan\", \"high_ratio\": 0.10344827586206896, \"all articles\": 29.0, \"high_quality_art\": 3.0}, {\"country\": \"Mauritania\", \"high_ratio\": 0.09615384615384616, \"all articles\": 52.0, \"high_quality_art\": 5.0}, {\"country\": \"Dominica\", \"high_ratio\": 0.08333333333333333, \"all articles\": 12.0, \"high_quality_art\": 1.0}, {\"country\": \"Guatemala\", \"high_ratio\": 0.08333333333333333, \"all articles\": 84.0, \"high_quality_art\": 7.0}, {\"country\": \"Syria\", \"high_ratio\": 0.07575757575757576, \"all articles\": 132.0, \"high_quality_art\": 10.0}, {\"country\": \"Benin\", \"high_ratio\": 0.07446808510638298, \"all articles\": 94.0, \"high_quality_art\": 7.0}], \"data-795cd9bb757d2aa224724f73557a72a9\": [{\"country\": \"Belgium\", \"high_ratio\": 0.0019157088122605363, \"all articles\": 522.0, \"high_quality_art\": 1.0}, {\"country\": \"Tanzania\", \"high_ratio\": 0.002457002457002457, \"all articles\": 407.0, \"high_quality_art\": 1.0}, {\"country\": \"Switzerland\", \"high_ratio\": 0.0024630541871921183, \"all articles\": 406.0, \"high_quality_art\": 1.0}, {\"country\": \"Nepal\", \"high_ratio\": 0.002785515320334262, \"all articles\": 359.0, \"high_quality_art\": 1.0}, {\"country\": \"Peru\", \"high_ratio\": 0.002824858757062147, \"all articles\": 354.0, \"high_quality_art\": 1.0}, {\"country\": \"Nigeria\", \"high_ratio\": 0.0029282576866764276, \"all articles\": 683.0, \"high_quality_art\": 2.0}, {\"country\": \"Portugal\", \"high_ratio\": 0.0030959752321981426, \"all articles\": 323.0, \"high_quality_art\": 1.0}, {\"country\": \"Colombia\", \"high_ratio\": 0.003472222222222222, \"all articles\": 288.0, \"high_quality_art\": 1.0}, {\"country\": \"Lithuania\", \"high_ratio\": 0.004032258064516129, \"all articles\": 248.0, \"high_quality_art\": 1.0}, {\"country\": \"Morocco\", \"high_ratio\": 0.004807692307692308, \"all articles\": 208.0, \"high_quality_art\": 1.0}]}}, {\"mode\": \"vega-lite\"});\n",
       "</script>"
      ],
      "text/plain": [
       "alt.VConcatChart(...)"
      ]
     },
     "execution_count": 81,
     "metadata": {},
     "output_type": "execute_result"
    }
   ],
   "source": [
    "top_10 & bottom_10"
   ]
  },
  {
   "cell_type": "markdown",
   "metadata": {},
   "source": [
    "5. **Regions by coverage**<br>Ranking of regions (in descending order) in terms of the total count of politician articles from countries in each region as a proportion of total regional population"
   ]
  },
  {
   "cell_type": "code",
   "execution_count": 82,
   "metadata": {},
   "outputs": [],
   "source": [
    "pop_artc_propotion_df = pd.DataFrame({'region': [], 'art_prop': [] }, columns = ['region', 'art_prop'])\n",
    "regions = pd.unique(merged_df_pop['region'])\n",
    "\n",
    "for region in regions:\n",
    "    new_row = pd.Series(data={'region':region, \n",
    "                              'art_prop': (len(merged_df_pop[merged_df_pop['region'] == region]) / merged_df_pop[merged_df_pop['region'] == region]['population'].iloc[0]) / 100 })\n",
    "\n",
    "    pop_artc_propotion_df = pop_artc_propotion_df.append(new_row, ignore_index=True)\n"
   ]
  },
  {
   "cell_type": "code",
   "execution_count": 83,
   "metadata": {},
   "outputs": [
    {
     "data": {
      "text/html": [
       "<div>\n",
       "<style scoped>\n",
       "    .dataframe tbody tr th:only-of-type {\n",
       "        vertical-align: middle;\n",
       "    }\n",
       "\n",
       "    .dataframe tbody tr th {\n",
       "        vertical-align: top;\n",
       "    }\n",
       "\n",
       "    .dataframe thead th {\n",
       "        text-align: right;\n",
       "    }\n",
       "</style>\n",
       "<table border=\"1\" class=\"dataframe\">\n",
       "  <thead>\n",
       "    <tr style=\"text-align: right;\">\n",
       "      <th></th>\n",
       "      <th>region</th>\n",
       "      <th>art_prop</th>\n",
       "    </tr>\n",
       "  </thead>\n",
       "  <tbody>\n",
       "    <tr>\n",
       "      <th>0</th>\n",
       "      <td>AFRICA</td>\n",
       "      <td>3.785357</td>\n",
       "    </tr>\n",
       "    <tr>\n",
       "      <th>1</th>\n",
       "      <td>LATIN AMERICA AND THE CARIBBEAN</td>\n",
       "      <td>1.079201</td>\n",
       "    </tr>\n",
       "    <tr>\n",
       "      <th>2</th>\n",
       "      <td>OCEANIA</td>\n",
       "      <td>0.035190</td>\n",
       "    </tr>\n",
       "    <tr>\n",
       "      <th>3</th>\n",
       "      <td>ASIA</td>\n",
       "      <td>23.588259</td>\n",
       "    </tr>\n",
       "    <tr>\n",
       "      <th>4</th>\n",
       "      <td>EUROPE</td>\n",
       "      <td>29.134017</td>\n",
       "    </tr>\n",
       "    <tr>\n",
       "      <th>5</th>\n",
       "      <td>NORTHERN AMERICA</td>\n",
       "      <td>0.502749</td>\n",
       "    </tr>\n",
       "  </tbody>\n",
       "</table>\n",
       "</div>"
      ],
      "text/plain": [
       "                            region   art_prop\n",
       "0                           AFRICA   3.785357\n",
       "1  LATIN AMERICA AND THE CARIBBEAN   1.079201\n",
       "2                          OCEANIA   0.035190\n",
       "3                             ASIA  23.588259\n",
       "4                           EUROPE  29.134017\n",
       "5                 NORTHERN AMERICA   0.502749"
      ]
     },
     "execution_count": 83,
     "metadata": {},
     "output_type": "execute_result"
    }
   ],
   "source": [
    "pop_artc_propotion_df"
   ]
  },
  {
   "cell_type": "code",
   "execution_count": 84,
   "metadata": {},
   "outputs": [
    {
     "data": {
      "text/html": [
       "\n",
       "<div id=\"altair-viz-e496d6208c0547e3b1a64df9faef16b7\"></div>\n",
       "<script type=\"text/javascript\">\n",
       "  (function(spec, embedOpt){\n",
       "    let outputDiv = document.currentScript.previousElementSibling;\n",
       "    if (outputDiv.id !== \"altair-viz-e496d6208c0547e3b1a64df9faef16b7\") {\n",
       "      outputDiv = document.getElementById(\"altair-viz-e496d6208c0547e3b1a64df9faef16b7\");\n",
       "    }\n",
       "    const paths = {\n",
       "      \"vega\": \"https://cdn.jsdelivr.net/npm//vega@5?noext\",\n",
       "      \"vega-lib\": \"https://cdn.jsdelivr.net/npm//vega-lib?noext\",\n",
       "      \"vega-lite\": \"https://cdn.jsdelivr.net/npm//vega-lite@4.8.1?noext\",\n",
       "      \"vega-embed\": \"https://cdn.jsdelivr.net/npm//vega-embed@6?noext\",\n",
       "    };\n",
       "\n",
       "    function loadScript(lib) {\n",
       "      return new Promise(function(resolve, reject) {\n",
       "        var s = document.createElement('script');\n",
       "        s.src = paths[lib];\n",
       "        s.async = true;\n",
       "        s.onload = () => resolve(paths[lib]);\n",
       "        s.onerror = () => reject(`Error loading script: ${paths[lib]}`);\n",
       "        document.getElementsByTagName(\"head\")[0].appendChild(s);\n",
       "      });\n",
       "    }\n",
       "\n",
       "    function showError(err) {\n",
       "      outputDiv.innerHTML = `<div class=\"error\" style=\"color:red;\">${err}</div>`;\n",
       "      throw err;\n",
       "    }\n",
       "\n",
       "    function displayChart(vegaEmbed) {\n",
       "      vegaEmbed(outputDiv, spec, embedOpt)\n",
       "        .catch(err => showError(`Javascript Error: ${err.message}<br>This usually means there's a typo in your chart specification. See the javascript console for the full traceback.`));\n",
       "    }\n",
       "\n",
       "    if(typeof define === \"function\" && define.amd) {\n",
       "      requirejs.config({paths});\n",
       "      require([\"vega-embed\"], displayChart, err => showError(`Error loading script: ${err.message}`));\n",
       "    } else if (typeof vegaEmbed === \"function\") {\n",
       "      displayChart(vegaEmbed);\n",
       "    } else {\n",
       "      loadScript(\"vega\")\n",
       "        .then(() => loadScript(\"vega-lite\"))\n",
       "        .then(() => loadScript(\"vega-embed\"))\n",
       "        .catch(showError)\n",
       "        .then(() => displayChart(vegaEmbed));\n",
       "    }\n",
       "  })({\"config\": {\"view\": {\"continuousWidth\": 400, \"continuousHeight\": 300}}, \"data\": {\"name\": \"data-7e38f1b932e57ead8f56b1c3a59e788b\"}, \"mark\": \"bar\", \"encoding\": {\"x\": {\"type\": \"quantitative\", \"field\": \"art_prop\", \"title\": \"proportion: population / number of politician articles\"}, \"y\": {\"type\": \"nominal\", \"field\": \"region\", \"sort\": \"-x\", \"title\": \"region\"}}, \"height\": 250, \"title\": {\"text\": [\"Regions by coverage\"], \"subtitle\": [\"Ranking of regions (in descending order) in terms of the total count of politician articles from countries in each region as a proportion of total regional population\"], \"color\": \"black\", \"subtitleColor\": \"darkgray\"}, \"width\": 800, \"$schema\": \"https://vega.github.io/schema/vega-lite/v4.8.1.json\", \"datasets\": {\"data-7e38f1b932e57ead8f56b1c3a59e788b\": [{\"region\": \"OCEANIA\", \"art_prop\": 0.035189732142857144}, {\"region\": \"NORTHERN AMERICA\", \"art_prop\": 0.5027494108405341}, {\"region\": \"LATIN AMERICA AND THE CARIBBEAN\", \"art_prop\": 1.0792007119165117}, {\"region\": \"AFRICA\", \"art_prop\": 3.7853568320278503}, {\"region\": \"ASIA\", \"art_prop\": 23.588258785942493}, {\"region\": \"EUROPE\", \"art_prop\": 29.134016843647014}]}}, {\"mode\": \"vega-lite\"});\n",
       "</script>"
      ],
      "text/plain": [
       "alt.Chart(...)"
      ]
     },
     "execution_count": 84,
     "metadata": {},
     "output_type": "execute_result"
    }
   ],
   "source": [
    "alt.Chart(pop_artc_propotion_df.sort_values(by=['art_prop'], ascending=True) ).mark_bar().encode(\n",
    "    y = alt.Y('region:N', sort='-x', title='region'),\n",
    "    x = alt.X('art_prop:Q', title='proportion: population / number of politician articles')\n",
    ").properties(\n",
    "    width=800,\n",
    "    height=250,\n",
    "    title={\n",
    "      \"text\": [\"Regions by coverage\"], \n",
    "      \"subtitle\": [\"Ranking of regions (in descending order) in terms of the total count of politician articles from countries in each region as a proportion of total regional population\"],\n",
    "      \"color\": \"black\",\n",
    "      \"subtitleColor\": \"darkgray\"    \n",
    "    }\n",
    ")"
   ]
  },
  {
   "cell_type": "markdown",
   "metadata": {},
   "source": [
    "6. **Regions by coverage**<br>Ranking of regions (in descending order) in terms of the relative proportion of politician articles from countries in each region that are of GA and FA-qualit"
   ]
  },
  {
   "cell_type": "code",
   "execution_count": 85,
   "metadata": {},
   "outputs": [],
   "source": [
    "artc_quality_rank_df = pd.DataFrame({'region': [], 'high_ratio': [] , 'all articles': [], 'high_quality_art': [] }, columns = ['region', 'high_ratio', 'all articles','high_quality_art'])\n",
    "\n",
    "#ratio: (sum(articles)/population) * 100\n",
    "\n",
    "for region in regions:\n",
    "    all_articles  = len(merged_df_pop[(merged_df_pop['region'] == region)])\n",
    "    good_articles = len(merged_df_pop[(merged_df_pop['region'] == region) & ((merged_df_pop['quality'] == 'FA') | (merged_df_pop['quality'] == 'GA'))])\n",
    "                                     \n",
    "    if(good_articles > 0):\n",
    "        good_art_ratio = good_articles / all_articles \n",
    "    else:\n",
    "        good_art_ratio = 0\n",
    " \n",
    "    new_row = pd.Series(data={'region':           region, \n",
    "                              'high_ratio':       good_art_ratio,\n",
    "                              'all articles':     all_articles,\n",
    "                              'high_quality_art': good_articles})\n",
    "\n",
    "    artc_quality_rank_df = artc_quality_rank_df.append(new_row, ignore_index=True)"
   ]
  },
  {
   "cell_type": "code",
   "execution_count": 86,
   "metadata": {},
   "outputs": [
    {
     "data": {
      "text/html": [
       "<div>\n",
       "<style scoped>\n",
       "    .dataframe tbody tr th:only-of-type {\n",
       "        vertical-align: middle;\n",
       "    }\n",
       "\n",
       "    .dataframe tbody tr th {\n",
       "        vertical-align: top;\n",
       "    }\n",
       "\n",
       "    .dataframe thead th {\n",
       "        text-align: right;\n",
       "    }\n",
       "</style>\n",
       "<table border=\"1\" class=\"dataframe\">\n",
       "  <thead>\n",
       "    <tr style=\"text-align: right;\">\n",
       "      <th></th>\n",
       "      <th>region</th>\n",
       "      <th>high_ratio</th>\n",
       "      <th>all articles</th>\n",
       "      <th>high_quality_art</th>\n",
       "    </tr>\n",
       "  </thead>\n",
       "  <tbody>\n",
       "    <tr>\n",
       "      <th>0</th>\n",
       "      <td>AFRICA</td>\n",
       "      <td>0.017100</td>\n",
       "      <td>6959.0</td>\n",
       "      <td>119.0</td>\n",
       "    </tr>\n",
       "    <tr>\n",
       "      <th>1</th>\n",
       "      <td>LATIN AMERICA AND THE CARIBBEAN</td>\n",
       "      <td>0.014243</td>\n",
       "      <td>5336.0</td>\n",
       "      <td>76.0</td>\n",
       "    </tr>\n",
       "    <tr>\n",
       "      <th>2</th>\n",
       "      <td>OCEANIA</td>\n",
       "      <td>0.019981</td>\n",
       "      <td>3153.0</td>\n",
       "      <td>63.0</td>\n",
       "    </tr>\n",
       "    <tr>\n",
       "      <th>3</th>\n",
       "      <td>ASIA</td>\n",
       "      <td>0.026750</td>\n",
       "      <td>11813.0</td>\n",
       "      <td>316.0</td>\n",
       "    </tr>\n",
       "    <tr>\n",
       "      <th>4</th>\n",
       "      <td>EUROPE</td>\n",
       "      <td>0.021995</td>\n",
       "      <td>15913.0</td>\n",
       "      <td>350.0</td>\n",
       "    </tr>\n",
       "    <tr>\n",
       "      <th>5</th>\n",
       "      <td>NORTHERN AMERICA</td>\n",
       "      <td>0.054167</td>\n",
       "      <td>1920.0</td>\n",
       "      <td>104.0</td>\n",
       "    </tr>\n",
       "  </tbody>\n",
       "</table>\n",
       "</div>"
      ],
      "text/plain": [
       "                            region  high_ratio  all articles  high_quality_art\n",
       "0                           AFRICA    0.017100        6959.0             119.0\n",
       "1  LATIN AMERICA AND THE CARIBBEAN    0.014243        5336.0              76.0\n",
       "2                          OCEANIA    0.019981        3153.0              63.0\n",
       "3                             ASIA    0.026750       11813.0             316.0\n",
       "4                           EUROPE    0.021995       15913.0             350.0\n",
       "5                 NORTHERN AMERICA    0.054167        1920.0             104.0"
      ]
     },
     "execution_count": 86,
     "metadata": {},
     "output_type": "execute_result"
    }
   ],
   "source": [
    "artc_quality_rank_df"
   ]
  },
  {
   "cell_type": "code",
   "execution_count": 87,
   "metadata": {},
   "outputs": [
    {
     "data": {
      "text/html": [
       "\n",
       "<div id=\"altair-viz-247070b5519142639bc683b25cd5e267\"></div>\n",
       "<script type=\"text/javascript\">\n",
       "  (function(spec, embedOpt){\n",
       "    let outputDiv = document.currentScript.previousElementSibling;\n",
       "    if (outputDiv.id !== \"altair-viz-247070b5519142639bc683b25cd5e267\") {\n",
       "      outputDiv = document.getElementById(\"altair-viz-247070b5519142639bc683b25cd5e267\");\n",
       "    }\n",
       "    const paths = {\n",
       "      \"vega\": \"https://cdn.jsdelivr.net/npm//vega@5?noext\",\n",
       "      \"vega-lib\": \"https://cdn.jsdelivr.net/npm//vega-lib?noext\",\n",
       "      \"vega-lite\": \"https://cdn.jsdelivr.net/npm//vega-lite@4.8.1?noext\",\n",
       "      \"vega-embed\": \"https://cdn.jsdelivr.net/npm//vega-embed@6?noext\",\n",
       "    };\n",
       "\n",
       "    function loadScript(lib) {\n",
       "      return new Promise(function(resolve, reject) {\n",
       "        var s = document.createElement('script');\n",
       "        s.src = paths[lib];\n",
       "        s.async = true;\n",
       "        s.onload = () => resolve(paths[lib]);\n",
       "        s.onerror = () => reject(`Error loading script: ${paths[lib]}`);\n",
       "        document.getElementsByTagName(\"head\")[0].appendChild(s);\n",
       "      });\n",
       "    }\n",
       "\n",
       "    function showError(err) {\n",
       "      outputDiv.innerHTML = `<div class=\"error\" style=\"color:red;\">${err}</div>`;\n",
       "      throw err;\n",
       "    }\n",
       "\n",
       "    function displayChart(vegaEmbed) {\n",
       "      vegaEmbed(outputDiv, spec, embedOpt)\n",
       "        .catch(err => showError(`Javascript Error: ${err.message}<br>This usually means there's a typo in your chart specification. See the javascript console for the full traceback.`));\n",
       "    }\n",
       "\n",
       "    if(typeof define === \"function\" && define.amd) {\n",
       "      requirejs.config({paths});\n",
       "      require([\"vega-embed\"], displayChart, err => showError(`Error loading script: ${err.message}`));\n",
       "    } else if (typeof vegaEmbed === \"function\") {\n",
       "      displayChart(vegaEmbed);\n",
       "    } else {\n",
       "      loadScript(\"vega\")\n",
       "        .then(() => loadScript(\"vega-lite\"))\n",
       "        .then(() => loadScript(\"vega-embed\"))\n",
       "        .catch(showError)\n",
       "        .then(() => displayChart(vegaEmbed));\n",
       "    }\n",
       "  })({\"config\": {\"view\": {\"continuousWidth\": 400, \"continuousHeight\": 300}}, \"data\": {\"name\": \"data-3c5b717717c16aac33261d1efcca3fcb\"}, \"mark\": \"bar\", \"encoding\": {\"tooltip\": [{\"type\": \"quantitative\", \"field\": \"all articles\"}, {\"type\": \"quantitative\", \"field\": \"high_quality_art\"}], \"x\": {\"type\": \"quantitative\", \"field\": \"high_ratio\", \"title\": \"proposion: total politician article / article with high quality\"}, \"y\": {\"type\": \"nominal\", \"field\": \"region\", \"sort\": \"-x\", \"title\": \"region\"}}, \"height\": 250, \"title\": {\"text\": [\"Regions by coverage\"], \"subtitle\": [\"Ranking of regions (in descending order) in terms of the relative proportion of politician articles from countries in each region that are of GA and FA-qualit\"], \"color\": \"black\", \"subtitleColor\": \"darkgray\"}, \"width\": 800, \"$schema\": \"https://vega.github.io/schema/vega-lite/v4.8.1.json\", \"datasets\": {\"data-3c5b717717c16aac33261d1efcca3fcb\": [{\"region\": \"NORTHERN AMERICA\", \"high_ratio\": 0.05416666666666667, \"all articles\": 1920.0, \"high_quality_art\": 104.0}, {\"region\": \"ASIA\", \"high_ratio\": 0.026750190468128335, \"all articles\": 11813.0, \"high_quality_art\": 316.0}, {\"region\": \"EUROPE\", \"high_ratio\": 0.021994595613649217, \"all articles\": 15913.0, \"high_quality_art\": 350.0}, {\"region\": \"OCEANIA\", \"high_ratio\": 0.019980970504281638, \"all articles\": 3153.0, \"high_quality_art\": 63.0}, {\"region\": \"AFRICA\", \"high_ratio\": 0.017100158068688028, \"all articles\": 6959.0, \"high_quality_art\": 119.0}, {\"region\": \"LATIN AMERICA AND THE CARIBBEAN\", \"high_ratio\": 0.01424287856071964, \"all articles\": 5336.0, \"high_quality_art\": 76.0}]}}, {\"mode\": \"vega-lite\"});\n",
       "</script>"
      ],
      "text/plain": [
       "alt.Chart(...)"
      ]
     },
     "execution_count": 87,
     "metadata": {},
     "output_type": "execute_result"
    }
   ],
   "source": [
    "alt.Chart(artc_quality_rank_df.sort_values(by=['high_ratio'], ascending=False) ).mark_bar().encode(\n",
    "    y = alt.Y('region:N', sort='-x', title='region'),\n",
    "    x = alt.X('high_ratio:Q', title='proposion: total politician article / article with high quality'),\n",
    "    tooltip = ['all articles:Q', 'high_quality_art:Q']\n",
    ").properties(\n",
    "    width=800,\n",
    "    height=250,\n",
    "    title={\n",
    "      \"text\": [\"Regions by coverage\"], \n",
    "      \"subtitle\": [\"Ranking of regions (in descending order) in terms of the relative proportion of politician articles from countries in each region that are of GA and FA-qualit\"],\n",
    "      \"color\": \"black\",\n",
    "      \"subtitleColor\": \"darkgray\"    \n",
    "    }\n",
    ")"
   ]
  },
  {
   "cell_type": "markdown",
   "metadata": {},
   "source": [
    "***\n",
    "\n",
    "#### Credits\n",
    "\n",
    "This exercise is slighty adapted from the course [Human Centered Data Science (Fall 2019)](https://wiki.communitydata.science/Human_Centered_Data_Science_(Fall_2019)) of [Univeristy of Washington](https://www.washington.edu/datasciencemasters/) by [Jonathan T. Morgan](https://wiki.communitydata.science/User:Jtmorgan).\n",
    "\n",
    "Same as the original inventors, we release the notebooks under the [Creative Commons Attribution license (CC BY 4.0)](https://creativecommons.org/licenses/by/4.0/)."
   ]
  },
  {
   "cell_type": "code",
   "execution_count": null,
   "metadata": {},
   "outputs": [],
   "source": []
  },
  {
   "cell_type": "code",
   "execution_count": null,
   "metadata": {},
   "outputs": [],
   "source": []
  }
 ],
 "metadata": {
  "kernelspec": {
   "display_name": "Python 3",
   "language": "python",
   "name": "python3"
  },
  "language_info": {
   "codemirror_mode": {
    "name": "ipython",
    "version": 3
   },
   "file_extension": ".py",
   "mimetype": "text/x-python",
   "name": "python",
   "nbconvert_exporter": "python",
   "pygments_lexer": "ipython3",
   "version": "3.7.3"
  }
 },
 "nbformat": 4,
 "nbformat_minor": 2
}
